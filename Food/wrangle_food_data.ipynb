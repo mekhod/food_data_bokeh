{
 "cells": [
  {
   "cell_type": "code",
   "execution_count": null,
   "metadata": {},
   "outputs": [],
   "source": [
    "import sys"
   ]
  },
  {
   "cell_type": "code",
   "execution_count": null,
   "metadata": {},
   "outputs": [],
   "source": [
    "sys.path.append('/home/ec2-user/SageMaker/')\n",
    "sys.path.append('/home/ec2-user/SageMaker/bokeh_interactive/')\n",
    "sys.path.append('/home/ec2-user/SageMaker/bokeh_interactive/tools/')\n",
    "sys.path.append('/home/ec2-user/SageMaker/bokeh_interactive/tools/wrangle_data.py')\n",
    "sys.path.append('C:/Users\\mekho\\Documents\\PycharmProjects\\Quiz_Food_LinkedIn')"
   ]
  },
  {
   "cell_type": "code",
   "execution_count": null,
   "metadata": {},
   "outputs": [],
   "source": [
    "from tools.wrangle_data import split_fields_per_layout"
   ]
  },
  {
   "cell_type": "code",
   "execution_count": null,
   "metadata": {},
   "outputs": [],
   "source": [
    "import pandas as pd\n",
    "import multiprocessing as mp\n",
    "from multiprocessing import Pool\n"
   ]
  },
  {
   "cell_type": "code",
   "execution_count": null,
   "metadata": {},
   "outputs": [],
   "source": [
    "mp.cpu_count()"
   ]
  },
  {
   "cell_type": "code",
   "execution_count": null,
   "metadata": {},
   "outputs": [],
   "source": [
    "data = pd.read_csv('C:/Users/mekho/Documents/PycharmProjects/Quiz_Food_LinkedIn/data/Food/MMSA17.txt',\n",
    "                   sep=\"Aberdeen, SD, Micropolitan Statistical Area\",\n",
    "                   header=None, engine='python')\n",
    "\n",
    "\n",
    "layout = pd.read_excel('C:/Users/mekho/Documents/PycharmProjects/Quiz_Food_LinkedIn/data/Food/MMSA Layout.xlsx', sep=\",\")\n",
    "\n",
    "\n",
    "works = [[row, data, layout] for row in list(data.index)]\n"
   ]
  },
  {
   "cell_type": "code",
   "execution_count": null,
   "metadata": {},
   "outputs": [],
   "source": [
    "pool = Pool(processes=4)"
   ]
  },
  {
   "cell_type": "code",
   "execution_count": null,
   "metadata": {},
   "outputs": [],
   "source": [
    "results = pool.map(split_fields_per_layout, works)"
   ]
  },
  {
   "cell_type": "code",
   "execution_count": null,
   "metadata": {},
   "outputs": [],
   "source": [
    "df_results = pd.DataFrame(results)"
   ]
  },
  {
   "cell_type": "code",
   "execution_count": null,
   "metadata": {},
   "outputs": [],
   "source": []
  },
  {
   "cell_type": "code",
   "execution_count": null,
   "metadata": {},
   "outputs": [],
   "source": [
    "df_results.to_csv('data/Food/wrangled_food_data.csv')"
   ]
  }
 ],
 "metadata": {
  "kernelspec": {
   "display_name": "Python 3",
   "language": "python",
   "name": "python3"
  },
  "language_info": {
   "codemirror_mode": {
    "name": "ipython",
    "version": 3
   },
   "file_extension": ".py",
   "mimetype": "text/x-python",
   "name": "python",
   "nbconvert_exporter": "python",
   "pygments_lexer": "ipython3",
   "version": "3.6.5"
  }
 },
 "nbformat": 4,
 "nbformat_minor": 2
}
