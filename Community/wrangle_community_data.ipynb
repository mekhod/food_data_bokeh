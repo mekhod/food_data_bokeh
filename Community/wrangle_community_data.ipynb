{
 "cells": [
  {
   "cell_type": "code",
   "execution_count": 1,
   "metadata": {},
   "outputs": [],
   "source": [
    "import sys"
   ]
  },
  {
   "cell_type": "code",
   "execution_count": 2,
   "metadata": {},
   "outputs": [],
   "source": [
    "sys.path.append('/home/ec2-user/SageMaker/')\n",
    "sys.path.append('/home/ec2-user/SageMaker/bokeh_interactive/')\n",
    "sys.path.append('/home/ec2-user/SageMaker/bokeh_interactive/tools/')\n",
    "sys.path.append('/home/ec2-user/SageMaker/bokeh_interactive/tools/wrangle_data.py')\n",
    "sys.path.append(\"tools/wrangle_data.py\")\n",
    "sys.path.append(\"/Users\\mekho\\Documents\\PycharmProjects\\Quiz_Food_LinkedIn\")"
   ]
  },
  {
   "cell_type": "code",
   "execution_count": 3,
   "metadata": {},
   "outputs": [],
   "source": [
    "from tools.wrangle_data import parse_community_data"
   ]
  },
  {
   "cell_type": "code",
   "execution_count": 48,
   "metadata": {},
   "outputs": [],
   "source": [
    "import pandas as pd\n",
    "import seaborn as sns\n",
    "import numpy as np\n",
    "import multiprocessing as mp\n",
    "from multiprocessing import Pool\n",
    "import pickle\n"
   ]
  },
  {
   "cell_type": "code",
   "execution_count": 5,
   "metadata": {},
   "outputs": [
    {
     "data": {
      "text/plain": [
       "8"
      ]
     },
     "execution_count": 5,
     "metadata": {},
     "output_type": "execute_result"
    }
   ],
   "source": [
    "mp.cpu_count()"
   ]
  },
  {
   "cell_type": "code",
   "execution_count": 6,
   "metadata": {},
   "outputs": [],
   "source": [
    "df_community = pd.read_csv(\"../data/Community_Context/nov18pub.dat\", header=None)\n",
    "\n",
    "\n",
    "works = [df_community.values.squeeze()[i] for i in range(len(df_community.values.squeeze()))]\n"
   ]
  },
  {
   "cell_type": "code",
   "execution_count": 7,
   "metadata": {},
   "outputs": [],
   "source": [
    "pool = Pool(processes=4)"
   ]
  },
  {
   "cell_type": "code",
   "execution_count": 8,
   "metadata": {},
   "outputs": [],
   "source": [
    "results = pool.map(parse_community_data, works)"
   ]
  },
  {
   "cell_type": "code",
   "execution_count": 9,
   "metadata": {},
   "outputs": [],
   "source": [
    "df_results = pd.DataFrame(results)"
   ]
  },
  {
   "cell_type": "code",
   "execution_count": 10,
   "metadata": {},
   "outputs": [
    {
     "data": {
      "text/plain": [
       "(143050, 8)"
      ]
     },
     "execution_count": 10,
     "metadata": {},
     "output_type": "execute_result"
    }
   ],
   "source": [
    "df_results.shape"
   ]
  },
  {
   "cell_type": "code",
   "execution_count": 11,
   "metadata": {},
   "outputs": [
    {
     "data": {
      "text/plain": [
       "Index(['interview_type', 'voting_type', 'registered_type', 'age_range',\n",
       "       'year_of_interview', 'state_code', 'metropolitan_code', 'county_code'],\n",
       "      dtype='object')"
      ]
     },
     "execution_count": 11,
     "metadata": {},
     "output_type": "execute_result"
    }
   ],
   "source": [
    "df_results.columns"
   ]
  },
  {
   "cell_type": "code",
   "execution_count": 12,
   "metadata": {},
   "outputs": [
    {
     "data": {
      "text/plain": [
       "-1    54301\n",
       "1     48337\n",
       "2     25606\n",
       "-9    11626\n",
       "-2     1800\n",
       "-3     1380\n",
       "Name: voting_type, dtype: int64"
      ]
     },
     "execution_count": 12,
     "metadata": {},
     "output_type": "execute_result"
    }
   ],
   "source": [
    "df_results.voting_type.value_counts()"
   ]
  },
  {
   "cell_type": "code",
   "execution_count": 13,
   "metadata": {},
   "outputs": [
    {
     "data": {
      "text/plain": [
       " 1    122744\n",
       " 3     10141\n",
       " 2      9642\n",
       " 4       523\n",
       "Name: interview_type, dtype: int64"
      ]
     },
     "execution_count": 13,
     "metadata": {},
     "output_type": "execute_result"
    }
   ],
   "source": [
    "df_results.interview_type.value_counts()"
   ]
  },
  {
   "cell_type": "code",
   "execution_count": 14,
   "metadata": {},
   "outputs": [
    {
     "data": {
      "text/plain": [
       " 2    99942\n",
       " 1    22352\n",
       "-1    20306\n",
       " 3      450\n",
       "Name: age_range, dtype: int64"
      ]
     },
     "execution_count": 14,
     "metadata": {},
     "output_type": "execute_result"
    }
   ],
   "source": [
    "df_results.age_range.value_counts()"
   ]
  },
  {
   "cell_type": "markdown",
   "metadata": {},
   "source": [
    "## Remove Unqualified Interviewees"
   ]
  },
  {
   "cell_type": "code",
   "execution_count": 15,
   "metadata": {},
   "outputs": [],
   "source": [
    "df_results_filtered = df_results.loc[df_results.voting_type != '-1', :]"
   ]
  },
  {
   "cell_type": "code",
   "execution_count": 16,
   "metadata": {},
   "outputs": [
    {
     "data": {
      "text/plain": [
       "(88749, 8)"
      ]
     },
     "execution_count": 16,
     "metadata": {},
     "output_type": "execute_result"
    }
   ],
   "source": [
    "df_results_filtered.shape"
   ]
  },
  {
   "cell_type": "code",
   "execution_count": 17,
   "metadata": {},
   "outputs": [
    {
     "data": {
      "text/html": [
       "<div>\n",
       "<style scoped>\n",
       "    .dataframe tbody tr th:only-of-type {\n",
       "        vertical-align: middle;\n",
       "    }\n",
       "\n",
       "    .dataframe tbody tr th {\n",
       "        vertical-align: top;\n",
       "    }\n",
       "\n",
       "    .dataframe thead th {\n",
       "        text-align: right;\n",
       "    }\n",
       "</style>\n",
       "<table border=\"1\" class=\"dataframe\">\n",
       "  <thead>\n",
       "    <tr style=\"text-align: right;\">\n",
       "      <th></th>\n",
       "      <th>interview_type</th>\n",
       "      <th>voting_type</th>\n",
       "      <th>registered_type</th>\n",
       "      <th>age_range</th>\n",
       "      <th>year_of_interview</th>\n",
       "      <th>state_code</th>\n",
       "      <th>metropolitan_code</th>\n",
       "      <th>county_code</th>\n",
       "    </tr>\n",
       "  </thead>\n",
       "  <tbody>\n",
       "    <tr>\n",
       "      <th>0</th>\n",
       "      <td>1</td>\n",
       "      <td>2</td>\n",
       "      <td>2</td>\n",
       "      <td>2</td>\n",
       "      <td>2018</td>\n",
       "      <td>01</td>\n",
       "      <td>33860</td>\n",
       "      <td>000</td>\n",
       "    </tr>\n",
       "    <tr>\n",
       "      <th>1</th>\n",
       "      <td>1</td>\n",
       "      <td>2</td>\n",
       "      <td>1</td>\n",
       "      <td>2</td>\n",
       "      <td>2018</td>\n",
       "      <td>01</td>\n",
       "      <td>33860</td>\n",
       "      <td>000</td>\n",
       "    </tr>\n",
       "  </tbody>\n",
       "</table>\n",
       "</div>"
      ],
      "text/plain": [
       "  interview_type voting_type registered_type age_range year_of_interview  \\\n",
       "0              1           2               2         2              2018   \n",
       "1              1           2               1         2              2018   \n",
       "\n",
       "  state_code metropolitan_code county_code  \n",
       "0         01             33860         000  \n",
       "1         01             33860         000  "
      ]
     },
     "execution_count": 17,
     "metadata": {},
     "output_type": "execute_result"
    }
   ],
   "source": [
    "df_results_filtered.head(2)"
   ]
  },
  {
   "cell_type": "code",
   "execution_count": 18,
   "metadata": {},
   "outputs": [
    {
     "data": {
      "text/plain": [
       "2018    88749\n",
       "Name: year_of_interview, dtype: int64"
      ]
     },
     "execution_count": 18,
     "metadata": {},
     "output_type": "execute_result"
    }
   ],
   "source": [
    "df_results_filtered.year_of_interview.value_counts()"
   ]
  },
  {
   "cell_type": "markdown",
   "metadata": {},
   "source": [
    "## Map metropolitan_code"
   ]
  },
  {
   "cell_type": "code",
   "execution_count": 19,
   "metadata": {},
   "outputs": [],
   "source": [
    "with open('../data/Community_Context/mappers.pkl', 'rb') as f:\n",
    "    mappers_all = pickle.load(f)"
   ]
  },
  {
   "cell_type": "code",
   "execution_count": 20,
   "metadata": {},
   "outputs": [
    {
     "data": {
      "text/plain": [
       "dict_keys(['mapper_metro', 'mapper_age_range', 'mapper_interview_type', 'mapper_state_code', 'mapper_registered_type', 'mapper_voting_type'])"
      ]
     },
     "execution_count": 20,
     "metadata": {},
     "output_type": "execute_result"
    }
   ],
   "source": [
    "mappers_all.keys()"
   ]
  },
  {
   "cell_type": "code",
   "execution_count": 21,
   "metadata": {},
   "outputs": [],
   "source": [
    "mapper_metro = mappers_all['mapper_metro']"
   ]
  },
  {
   "cell_type": "code",
   "execution_count": 22,
   "metadata": {},
   "outputs": [
    {
     "data": {
      "text/plain": [
       "set()"
      ]
     },
     "execution_count": 22,
     "metadata": {},
     "output_type": "execute_result"
    }
   ],
   "source": [
    "set(df_results_filtered.metropolitan_code) - set(mapper_metro.keys())"
   ]
  },
  {
   "cell_type": "code",
   "execution_count": 23,
   "metadata": {},
   "outputs": [
    {
     "name": "stderr",
     "output_type": "stream",
     "text": [
      "C:\\Users\\mekho\\Documents\\PycharmProjects\\venvs\\LinkedIn_Quiz_env\\lib\\site-packages\\pandas\\core\\generic.py:5208: SettingWithCopyWarning: \n",
      "A value is trying to be set on a copy of a slice from a DataFrame.\n",
      "Try using .loc[row_indexer,col_indexer] = value instead\n",
      "\n",
      "See the caveats in the documentation: http://pandas.pydata.org/pandas-docs/stable/user_guide/indexing.html#returning-a-view-versus-a-copy\n",
      "  self[name] = value\n"
     ]
    }
   ],
   "source": [
    "df_results_filtered.metropolitan_code = list(df_results_filtered.metropolitan_code.map(mapper_metro))"
   ]
  },
  {
   "cell_type": "code",
   "execution_count": 24,
   "metadata": {},
   "outputs": [
    {
     "data": {
      "text/plain": [
       "0                            Montgomery, AL\n",
       "1                            Montgomery, AL\n",
       "2                            Montgomery, AL\n",
       "5                 Daphne-Fairhope-Foley, AL\n",
       "6                 Daphne-Fairhope-Foley, AL\n",
       "                        ...                \n",
       "143030    NOT IDENTIFIED OR NONMETROPOLITAN\n",
       "143031    NOT IDENTIFIED OR NONMETROPOLITAN\n",
       "143035    NOT IDENTIFIED OR NONMETROPOLITAN\n",
       "143036    NOT IDENTIFIED OR NONMETROPOLITAN\n",
       "143038    NOT IDENTIFIED OR NONMETROPOLITAN\n",
       "Name: metropolitan_code, Length: 88749, dtype: object"
      ]
     },
     "execution_count": 24,
     "metadata": {},
     "output_type": "execute_result"
    }
   ],
   "source": [
    "df_results_filtered.metropolitan_code"
   ]
  },
  {
   "cell_type": "code",
   "execution_count": 25,
   "metadata": {},
   "outputs": [
    {
     "data": {
      "text/plain": [
       "set()"
      ]
     },
     "execution_count": 25,
     "metadata": {},
     "output_type": "execute_result"
    }
   ],
   "source": [
    "set(df_results_filtered.metropolitan_code) - set(mapper_metro.values())"
   ]
  },
  {
   "cell_type": "markdown",
   "metadata": {},
   "source": [
    "## Map voting_type"
   ]
  },
  {
   "cell_type": "code",
   "execution_count": 26,
   "metadata": {},
   "outputs": [],
   "source": [
    "mapper_voting_type = mappers_all['mapper_voting_type']"
   ]
  },
  {
   "cell_type": "code",
   "execution_count": 27,
   "metadata": {},
   "outputs": [
    {
     "data": {
      "text/plain": [
       "set()"
      ]
     },
     "execution_count": 27,
     "metadata": {},
     "output_type": "execute_result"
    }
   ],
   "source": [
    "set(df_results_filtered.voting_type) - set(mapper_voting_type.keys())"
   ]
  },
  {
   "cell_type": "code",
   "execution_count": 28,
   "metadata": {},
   "outputs": [],
   "source": [
    "df_results_filtered.voting_type = list(df_results_filtered.voting_type.map(mapper_voting_type))"
   ]
  },
  {
   "cell_type": "code",
   "execution_count": 29,
   "metadata": {},
   "outputs": [
    {
     "data": {
      "text/plain": [
       "yes            48337\n",
       "no             25606\n",
       "no_response    11626\n",
       "not_know        1800\n",
       "refused         1380\n",
       "Name: voting_type, dtype: int64"
      ]
     },
     "execution_count": 29,
     "metadata": {},
     "output_type": "execute_result"
    }
   ],
   "source": [
    "df_results_filtered.voting_type.value_counts()"
   ]
  },
  {
   "cell_type": "code",
   "execution_count": 30,
   "metadata": {},
   "outputs": [
    {
     "data": {
      "text/plain": [
       "set()"
      ]
     },
     "execution_count": 30,
     "metadata": {},
     "output_type": "execute_result"
    }
   ],
   "source": [
    "set(df_results_filtered.voting_type) - set(mapper_voting_type.values())"
   ]
  },
  {
   "cell_type": "markdown",
   "metadata": {},
   "source": [
    "## Map registered_type"
   ]
  },
  {
   "cell_type": "code",
   "execution_count": 31,
   "metadata": {},
   "outputs": [],
   "source": [
    "mapper_registered_type = mappers_all['mapper_registered_type']"
   ]
  },
  {
   "cell_type": "code",
   "execution_count": 32,
   "metadata": {},
   "outputs": [
    {
     "data": {
      "text/plain": [
       "set()"
      ]
     },
     "execution_count": 32,
     "metadata": {},
     "output_type": "execute_result"
    }
   ],
   "source": [
    "set(df_results_filtered.registered_type) - set(mapper_registered_type.keys())"
   ]
  },
  {
   "cell_type": "code",
   "execution_count": 33,
   "metadata": {},
   "outputs": [],
   "source": [
    "df_results_filtered.registered_type = list(df_results_filtered.registered_type.map(mapper_registered_type))"
   ]
  },
  {
   "cell_type": "code",
   "execution_count": 34,
   "metadata": {},
   "outputs": [
    {
     "data": {
      "text/plain": [
       "0                      no\n",
       "1                     yes\n",
       "2                     yes\n",
       "5         not_in_universe\n",
       "6         not_in_universe\n",
       "               ...       \n",
       "143030    not_in_universe\n",
       "143031    not_in_universe\n",
       "143035        no_response\n",
       "143036        no_response\n",
       "143038        no_response\n",
       "Name: registered_type, Length: 88749, dtype: object"
      ]
     },
     "execution_count": 34,
     "metadata": {},
     "output_type": "execute_result"
    }
   ],
   "source": [
    "df_results_filtered.registered_type"
   ]
  },
  {
   "cell_type": "code",
   "execution_count": 35,
   "metadata": {},
   "outputs": [
    {
     "data": {
      "text/plain": [
       "not_in_universe    48337\n",
       "no                 13026\n",
       "yes                12012\n",
       "no_response        11743\n",
       "not_know            2335\n",
       "refused             1296\n",
       "Name: registered_type, dtype: int64"
      ]
     },
     "execution_count": 35,
     "metadata": {},
     "output_type": "execute_result"
    }
   ],
   "source": [
    "df_results_filtered.registered_type.value_counts()"
   ]
  },
  {
   "cell_type": "markdown",
   "metadata": {},
   "source": [
    "## Save Community DataFrame"
   ]
  },
  {
   "cell_type": "code",
   "execution_count": 36,
   "metadata": {},
   "outputs": [],
   "source": [
    "df_results_filtered.to_csv('../data/Community_Context/data_community.csv')"
   ]
  },
  {
   "cell_type": "markdown",
   "metadata": {},
   "source": [
    "## Aggregate Community Data"
   ]
  },
  {
   "cell_type": "code",
   "execution_count": 37,
   "metadata": {},
   "outputs": [
    {
     "data": {
      "text/plain": [
       "metropolitan_code\n",
       "NOT IDENTIFIED OR NONMETROPOLITAN    24221\n",
       "Name: interview_type, dtype: int64"
      ]
     },
     "execution_count": 37,
     "metadata": {},
     "output_type": "execute_result"
    }
   ],
   "source": [
    "df_results_filtered.groupby('metropolitan_code').count().interview_type[df_results_filtered.groupby('metropolitan_code').count().interview_type == df_results_filtered.groupby('metropolitan_code').count().interview_type.max()]"
   ]
  },
  {
   "cell_type": "code",
   "execution_count": 38,
   "metadata": {},
   "outputs": [
    {
     "data": {
      "text/plain": [
       "metropolitan_code\n",
       "Abilene, TX                           46\n",
       "Akron, OH                            169\n",
       "Albany-Schenectady-Troy, NY          160\n",
       "Albuquerque, NM                      731\n",
       "Allentown-Bethlehem-Easton, PA-NJ    147\n",
       "                                    ... \n",
       "Winston-Salem, NC                    136\n",
       "Worcester, MA-CT                     266\n",
       "York-Hanover, PA                     102\n",
       "Youngstown-Warren-Boardman, OH-PA    131\n",
       "Yuma, AZ                              59\n",
       "Name: interview_type, Length: 261, dtype: int64"
      ]
     },
     "execution_count": 38,
     "metadata": {},
     "output_type": "execute_result"
    }
   ],
   "source": [
    "df_results_filtered.groupby('metropolitan_code').count().interview_type"
   ]
  },
  {
   "cell_type": "code",
   "execution_count": 39,
   "metadata": {},
   "outputs": [],
   "source": [
    "list_voters_ratio = []"
   ]
  },
  {
   "cell_type": "code",
   "execution_count": 40,
   "metadata": {},
   "outputs": [],
   "source": [
    "def compute_voters_ratio(chunk):\n",
    "    dict_voters_ratio = {}\n",
    "#     print(chunk.loc[:, ['metropolitan_code']].values.squeeze()[0])\n",
    "    dict_voters_ratio['metropolitan'] = chunk.loc[:, ['metropolitan_code']].values.squeeze()[0]\n",
    "    dict_voters_ratio['voters_ratio'] = np.around((sum(chunk.voting_type == 'yes') / len(chunk)), decimals=2) #sum(chunk.voting_type == 'yes') / len(chunk)\n",
    "    dict_voters_ratio['population'] = len(chunk)\n",
    "    list_voters_ratio.append(dict_voters_ratio)\n",
    "    return"
   ]
  },
  {
   "cell_type": "code",
   "execution_count": 41,
   "metadata": {},
   "outputs": [],
   "source": [
    "sth = df_results_filtered.groupby('metropolitan_code', group_keys=False).apply(lambda chunk: compute_voters_ratio(chunk))"
   ]
  },
  {
   "cell_type": "code",
   "execution_count": 42,
   "metadata": {},
   "outputs": [
    {
     "data": {
      "text/plain": [
       "[{'metropolitan': 'Abilene, TX', 'voters_ratio': 0.63, 'population': 46},\n",
       " {'metropolitan': 'Akron, OH', 'voters_ratio': 0.34, 'population': 169},\n",
       " {'metropolitan': 'Albany-Schenectady-Troy, NY',\n",
       "  'voters_ratio': 0.47,\n",
       "  'population': 160},\n",
       " {'metropolitan': 'Albuquerque, NM', 'voters_ratio': 0.58, 'population': 731},\n",
       " {'metropolitan': 'Allentown-Bethlehem-Easton, PA-NJ',\n",
       "  'voters_ratio': 0.56,\n",
       "  'population': 147},\n",
       " {'metropolitan': 'Amarillo, TX', 'voters_ratio': 0.44, 'population': 59},\n",
       " {'metropolitan': 'Ann Arbor, MI', 'voters_ratio': 0.75, 'population': 69},\n",
       " {'metropolitan': 'Appleton, WI', 'voters_ratio': 0.72, 'population': 54},\n",
       " {'metropolitan': 'Asheville, NC', 'voters_ratio': 0.55, 'population': 110},\n",
       " {'metropolitan': 'Athens-Clarke County, GA',\n",
       "  'voters_ratio': 0.83,\n",
       "  'population': 47},\n",
       " {'metropolitan': 'Atlanta-Sandy Springs-Roswell, GA',\n",
       "  'voters_ratio': 0.59,\n",
       "  'population': 1057},\n",
       " {'metropolitan': 'Atlantic City-Hammonton, NJ',\n",
       "  'voters_ratio': 0.39,\n",
       "  'population': 38},\n",
       " {'metropolitan': 'Auburn-Opelika, AL',\n",
       "  'voters_ratio': 0.51,\n",
       "  'population': 118},\n",
       " {'metropolitan': 'Augusta-Richmond County, GA-SC',\n",
       "  'voters_ratio': 0.52,\n",
       "  'population': 124},\n",
       " {'metropolitan': 'Austin-Round Rock, TX',\n",
       "  'voters_ratio': 0.52,\n",
       "  'population': 337},\n",
       " {'metropolitan': 'Bakersfield, CA', 'voters_ratio': 0.5, 'population': 146},\n",
       " {'metropolitan': 'Baltimore-Columbia-Towson, MD',\n",
       "  'voters_ratio': 0.5,\n",
       "  'population': 593},\n",
       " {'metropolitan': 'Bangor, ME', 'voters_ratio': 0.72, 'population': 92},\n",
       " {'metropolitan': 'Barnstable, MA', 'voters_ratio': 0.63, 'population': 57},\n",
       " {'metropolitan': 'Baton Rouge, LA', 'voters_ratio': 0.46, 'population': 353},\n",
       " {'metropolitan': 'Battle Creek, MI', 'voters_ratio': 0.61, 'population': 70},\n",
       " {'metropolitan': 'Beaumont-Port Arthur, TX',\n",
       "  'voters_ratio': 0.37,\n",
       "  'population': 79},\n",
       " {'metropolitan': 'Bend-Redmond, OR', 'voters_ratio': 0.58, 'population': 110},\n",
       " {'metropolitan': 'Billings, MT', 'voters_ratio': 0.67, 'population': 267},\n",
       " {'metropolitan': 'Binghamton, NY', 'voters_ratio': 0.57, 'population': 122},\n",
       " {'metropolitan': 'Birmingham-Hoover, AL',\n",
       "  'voters_ratio': 0.5,\n",
       "  'population': 411},\n",
       " {'metropolitan': 'Blacksburg—Christiansburg-Radford, VA',\n",
       "  'voters_ratio': 0.72,\n",
       "  'population': 25},\n",
       " {'metropolitan': 'Bloomington, IL', 'voters_ratio': 0.5, 'population': 42},\n",
       " {'metropolitan': 'Bloomington, IN', 'voters_ratio': 0.42, 'population': 36},\n",
       " {'metropolitan': 'Boise City, ID', 'voters_ratio': 0.51, 'population': 589},\n",
       " {'metropolitan': 'Boston-Cambridge-Newton, MA-NH',\n",
       "  'voters_ratio': 0.57,\n",
       "  'population': 1539},\n",
       " {'metropolitan': 'Boulder, CO', 'voters_ratio': 0.51, 'population': 76},\n",
       " {'metropolitan': 'Bowling Green, KY', 'voters_ratio': 0.68, 'population': 56},\n",
       " {'metropolitan': 'Bridgeport-Stamford-Norwalk, CT',\n",
       "  'voters_ratio': 0.56,\n",
       "  'population': 216},\n",
       " {'metropolitan': 'Brownsville-Harlingen, TX',\n",
       "  'voters_ratio': 0.29,\n",
       "  'population': 59},\n",
       " {'metropolitan': 'Buffalo-Cheektowaga-Niagara Falls, NY',\n",
       "  'voters_ratio': 0.63,\n",
       "  'population': 228},\n",
       " {'metropolitan': 'Burlington, NC', 'voters_ratio': 0.45, 'population': 64},\n",
       " {'metropolitan': 'Burlington-South Burlington, VT',\n",
       "  'voters_ratio': 0.56,\n",
       "  'population': 443},\n",
       " {'metropolitan': 'California-Lexington Park, MD',\n",
       "  'voters_ratio': 0.43,\n",
       "  'population': 42},\n",
       " {'metropolitan': 'Canton-Massillon, OH',\n",
       "  'voters_ratio': 0.6,\n",
       "  'population': 68},\n",
       " {'metropolitan': 'Cape Coral-Fort Myers, FL',\n",
       "  'voters_ratio': 0.51,\n",
       "  'population': 105},\n",
       " {'metropolitan': 'Carbondale-Marion, IL',\n",
       "  'voters_ratio': 0.5,\n",
       "  'population': 38},\n",
       " {'metropolitan': 'Cedar Rapids, IA', 'voters_ratio': 0.65, 'population': 63},\n",
       " {'metropolitan': 'Chambersburg-Waynesboro, PA',\n",
       "  'voters_ratio': 0.44,\n",
       "  'population': 55},\n",
       " {'metropolitan': 'Champaign-Urbana, IL',\n",
       "  'voters_ratio': 0.43,\n",
       "  'population': 51},\n",
       " {'metropolitan': 'Charleston, WV', 'voters_ratio': 0.56, 'population': 198},\n",
       " {'metropolitan': 'Charleston-North Charleston, SC',\n",
       "  'voters_ratio': 0.48,\n",
       "  'population': 219},\n",
       " {'metropolitan': 'Charlotte-Concord-Gastonia, NC-SC',\n",
       "  'voters_ratio': 0.55,\n",
       "  'population': 513},\n",
       " {'metropolitan': 'Charlottesville, VA',\n",
       "  'voters_ratio': 0.62,\n",
       "  'population': 52},\n",
       " {'metropolitan': 'Chattanooga, TN-GA',\n",
       "  'voters_ratio': 0.5,\n",
       "  'population': 189},\n",
       " {'metropolitan': 'Chicago-Naperville-Elgin, IL-IN-WI',\n",
       "  'voters_ratio': 0.53,\n",
       "  'population': 1837},\n",
       " {'metropolitan': 'Chico, CA', 'voters_ratio': 0.57, 'population': 49},\n",
       " {'metropolitan': 'Cincinnati, OH-KY-IN',\n",
       "  'voters_ratio': 0.53,\n",
       "  'population': 411},\n",
       " {'metropolitan': 'Clarksville, TN-KY',\n",
       "  'voters_ratio': 0.33,\n",
       "  'population': 85},\n",
       " {'metropolitan': 'Cleveland, TN', 'voters_ratio': 0.55, 'population': 75},\n",
       " {'metropolitan': 'Cleveland-Elyria, OH',\n",
       "  'voters_ratio': 0.55,\n",
       "  'population': 399},\n",
       " {'metropolitan': 'Coeur d’Alene, ID',\n",
       "  'voters_ratio': 0.46,\n",
       "  'population': 142},\n",
       " {'metropolitan': 'College Station-Bryan, TX',\n",
       "  'voters_ratio': 0.43,\n",
       "  'population': 42},\n",
       " {'metropolitan': 'Colorado Springs, CO',\n",
       "  'voters_ratio': 0.66,\n",
       "  'population': 119},\n",
       " {'metropolitan': 'Columbia, SC', 'voters_ratio': 0.52, 'population': 260},\n",
       " {'metropolitan': 'Columbus, GA-AL', 'voters_ratio': 0.4, 'population': 55},\n",
       " {'metropolitan': 'Columbus, OH', 'voters_ratio': 0.64, 'population': 383},\n",
       " {'metropolitan': 'Corpus Christi, TX',\n",
       "  'voters_ratio': 0.38,\n",
       "  'population': 58},\n",
       " {'metropolitan': 'Dallas-Fort Worth-Arlington, TX',\n",
       "  'voters_ratio': 0.54,\n",
       "  'population': 1238},\n",
       " {'metropolitan': 'Daphne-Fairhope-Foley, AL',\n",
       "  'voters_ratio': 0.65,\n",
       "  'population': 121},\n",
       " {'metropolitan': 'Davenport-Moline-Rock Island, IA-IL',\n",
       "  'voters_ratio': 0.43,\n",
       "  'population': 102},\n",
       " {'metropolitan': 'Dayton, OH', 'voters_ratio': 0.57, 'population': 145},\n",
       " {'metropolitan': 'Deltona-Daytona Beach-Ormond Beach, FL',\n",
       "  'voters_ratio': 0.5,\n",
       "  'population': 145},\n",
       " {'metropolitan': 'Denver-Aurora-Lakewood, CO',\n",
       "  'voters_ratio': 0.57,\n",
       "  'population': 537},\n",
       " {'metropolitan': 'Des Moines-West Des Moines, IA',\n",
       "  'voters_ratio': 0.57,\n",
       "  'population': 193},\n",
       " {'metropolitan': 'Detroit-Warren-Dearborn, MI',\n",
       "  'voters_ratio': 0.63,\n",
       "  'population': 898},\n",
       " {'metropolitan': 'Dover, DE', 'voters_ratio': 0.45, 'population': 202},\n",
       " {'metropolitan': 'Durham-Chapel Hill, NC',\n",
       "  'voters_ratio': 0.75,\n",
       "  'population': 107},\n",
       " {'metropolitan': 'East Stroudsburg, PA',\n",
       "  'voters_ratio': 0.15,\n",
       "  'population': 34},\n",
       " {'metropolitan': 'El Paso, TX', 'voters_ratio': 0.44, 'population': 140},\n",
       " {'metropolitan': 'Elkhart-Goshen, IN',\n",
       "  'voters_ratio': 0.51,\n",
       "  'population': 65},\n",
       " {'metropolitan': 'Erie, PA', 'voters_ratio': 0.62, 'population': 74},\n",
       " {'metropolitan': 'Eugene, OR', 'voters_ratio': 0.76, 'population': 108},\n",
       " {'metropolitan': 'Evansville, IN-KY', 'voters_ratio': 0.47, 'population': 43},\n",
       " {'metropolitan': 'Fargo, ND-MN', 'voters_ratio': 0.62, 'population': 282},\n",
       " {'metropolitan': 'Farmington, NM', 'voters_ratio': 0.36, 'population': 81},\n",
       " {'metropolitan': 'Fayetteville, NC', 'voters_ratio': 0.47, 'population': 60},\n",
       " {'metropolitan': 'Fayetteville-Springdale-Rogers, AR-MO',\n",
       "  'voters_ratio': 0.46,\n",
       "  'population': 273},\n",
       " {'metropolitan': 'Flint, MI', 'voters_ratio': 0.46, 'population': 96},\n",
       " {'metropolitan': 'Florence, SC', 'voters_ratio': 0.37, 'population': 46},\n",
       " {'metropolitan': 'Florence-Muscle Shoals, AL',\n",
       "  'voters_ratio': 0.48,\n",
       "  'population': 81},\n",
       " {'metropolitan': 'Fort Collins, CO', 'voters_ratio': 0.53, 'population': 76},\n",
       " {'metropolitan': 'Fort Smith, AR-OK',\n",
       "  'voters_ratio': 0.44,\n",
       "  'population': 126},\n",
       " {'metropolitan': 'Fort Wayne, IN', 'voters_ratio': 0.42, 'population': 111},\n",
       " {'metropolitan': 'Fresno, CA', 'voters_ratio': 0.34, 'population': 197},\n",
       " {'metropolitan': 'Gainesville, FL', 'voters_ratio': 0.38, 'population': 61},\n",
       " {'metropolitan': 'Gainesville, GA', 'voters_ratio': 0.46, 'population': 37},\n",
       " {'metropolitan': 'Glen Falls, NY', 'voters_ratio': 0.66, 'population': 50},\n",
       " {'metropolitan': 'Goldsboro, NC', 'voters_ratio': 0.46, 'population': 48},\n",
       " {'metropolitan': 'Grand Rapids-Wyoming, MI',\n",
       "  'voters_ratio': 0.64,\n",
       "  'population': 191},\n",
       " {'metropolitan': 'Greeley, CO', 'voters_ratio': 0.63, 'population': 59},\n",
       " {'metropolitan': 'Green Bay, WI', 'voters_ratio': 0.64, 'population': 61},\n",
       " {'metropolitan': 'Greensboro-High Point, NC',\n",
       "  'voters_ratio': 0.53,\n",
       "  'population': 142},\n",
       " {'metropolitan': 'Greenville, NC', 'voters_ratio': 0.51, 'population': 49},\n",
       " {'metropolitan': 'Greenville-Anderson-Mauldin, SC',\n",
       "  'voters_ratio': 0.46,\n",
       "  'population': 280},\n",
       " {'metropolitan': 'Hagerstown-Martinsburg, MD-WV',\n",
       "  'voters_ratio': 0.41,\n",
       "  'population': 158},\n",
       " {'metropolitan': 'Hanford-Corcoran, CA',\n",
       "  'voters_ratio': 0.35,\n",
       "  'population': 68},\n",
       " {'metropolitan': 'Harrisburg-Carlisle, PA',\n",
       "  'voters_ratio': 0.51,\n",
       "  'population': 135},\n",
       " {'metropolitan': 'Hartford-West Hartford-East Hartford, CT',\n",
       "  'voters_ratio': 0.56,\n",
       "  'population': 330},\n",
       " {'metropolitan': 'Hickory-Morganton-Lenoir, NC',\n",
       "  'voters_ratio': 0.36,\n",
       "  'population': 75},\n",
       " {'metropolitan': 'Hilton Head Island-Bluffton-Beaufort, SC',\n",
       "  'voters_ratio': 0.56,\n",
       "  'population': 64},\n",
       " {'metropolitan': 'Houston-Baytown-Sugar Land, TX',\n",
       "  'voters_ratio': 0.51,\n",
       "  'population': 1036},\n",
       " {'metropolitan': 'Huntington-Ashland, WV-KY-OH',\n",
       "  'voters_ratio': 0.45,\n",
       "  'population': 240},\n",
       " {'metropolitan': 'Huntsville, AL', 'voters_ratio': 0.41, 'population': 179},\n",
       " {'metropolitan': 'Idaho Falls, ID', 'voters_ratio': 0.51, 'population': 109},\n",
       " {'metropolitan': 'Indianapolis, IN', 'voters_ratio': 0.52, 'population': 401},\n",
       " {'metropolitan': 'Iowa City, IA', 'voters_ratio': 0.74, 'population': 66},\n",
       " {'metropolitan': 'Jackson, MI', 'voters_ratio': 0.63, 'population': 46},\n",
       " {'metropolitan': 'Jackson, MS', 'voters_ratio': 0.61, 'population': 320},\n",
       " {'metropolitan': 'Jacksonville, FL', 'voters_ratio': 0.59, 'population': 303},\n",
       " {'metropolitan': 'Jacksonville, NC', 'voters_ratio': 0.36, 'population': 47},\n",
       " {'metropolitan': 'Janesville-Beloit, WI',\n",
       "  'voters_ratio': 0.51,\n",
       "  'population': 51},\n",
       " {'metropolitan': 'Johnson City, TN', 'voters_ratio': 0.45, 'population': 74},\n",
       " {'metropolitan': 'Johnstown, PA', 'voters_ratio': 0.49, 'population': 41},\n",
       " {'metropolitan': 'Kahului-Wailuku-Lahaina, HI',\n",
       "  'voters_ratio': 0.51,\n",
       "  'population': 122},\n",
       " {'metropolitan': 'Kalamazoo-Portage, MI',\n",
       "  'voters_ratio': 0.57,\n",
       "  'population': 68},\n",
       " {'metropolitan': 'Kansas City, MO-KS',\n",
       "  'voters_ratio': 0.61,\n",
       "  'population': 611},\n",
       " {'metropolitan': 'Kennewick-Richland, WA',\n",
       "  'voters_ratio': 0.69,\n",
       "  'population': 86},\n",
       " {'metropolitan': 'Killeen-Temple-Fort Hood, TX',\n",
       "  'voters_ratio': 0.47,\n",
       "  'population': 55},\n",
       " {'metropolitan': 'Kingsport-Bristol, TN-VA',\n",
       "  'voters_ratio': 0.5,\n",
       "  'population': 92},\n",
       " {'metropolitan': 'Knoxville, TN', 'voters_ratio': 0.5, 'population': 211},\n",
       " {'metropolitan': 'Lafayette, LA', 'voters_ratio': 0.4, 'population': 221},\n",
       " {'metropolitan': 'Lafayette-West Lafayette, IN',\n",
       "  'voters_ratio': 0.64,\n",
       "  'population': 44},\n",
       " {'metropolitan': 'Lake Charles, LA', 'voters_ratio': 0.51, 'population': 114},\n",
       " {'metropolitan': 'Lakeland-Winter Haven, FL',\n",
       "  'voters_ratio': 0.39,\n",
       "  'population': 173},\n",
       " {'metropolitan': 'Lancaster, PA', 'voters_ratio': 0.54, 'population': 100},\n",
       " {'metropolitan': 'Lansing-East Lansing, MI',\n",
       "  'voters_ratio': 0.54,\n",
       "  'population': 94},\n",
       " {'metropolitan': 'Laredo, TX', 'voters_ratio': 0.43, 'population': 47},\n",
       " {'metropolitan': 'Las Cruces, NM', 'voters_ratio': 0.44, 'population': 158},\n",
       " {'metropolitan': 'Las Vegas-Paradise, NV',\n",
       "  'voters_ratio': 0.45,\n",
       "  'population': 786},\n",
       " {'metropolitan': 'Lewiston-Auburn, ME',\n",
       "  'voters_ratio': 0.58,\n",
       "  'population': 79},\n",
       " {'metropolitan': 'Lexington-Fayette, KY',\n",
       "  'voters_ratio': 0.6,\n",
       "  'population': 141},\n",
       " {'metropolitan': 'Little Rock-North Little Rock, AR',\n",
       "  'voters_ratio': 0.51,\n",
       "  'population': 412},\n",
       " {'metropolitan': 'Longview, TX', 'voters_ratio': 0.54, 'population': 69},\n",
       " {'metropolitan': 'Los Angeles-Long Beach-Anaheim, CA',\n",
       "  'voters_ratio': 0.51,\n",
       "  'population': 2344},\n",
       " {'metropolitan': 'Louisville, KY-IN',\n",
       "  'voters_ratio': 0.56,\n",
       "  'population': 307},\n",
       " {'metropolitan': 'Lubbock, TX', 'voters_ratio': 0.5, 'population': 38},\n",
       " {'metropolitan': 'Macon, GA', 'voters_ratio': 0.41, 'population': 44},\n",
       " {'metropolitan': 'Madison, WI', 'voters_ratio': 0.76, 'population': 145},\n",
       " {'metropolitan': 'Manchester-Nashua, NH',\n",
       "  'voters_ratio': 0.5,\n",
       "  'population': 391},\n",
       " {'metropolitan': 'McAllen-Edinburg-Mission, TX',\n",
       "  'voters_ratio': 0.38,\n",
       "  'population': 104},\n",
       " {'metropolitan': 'Medford, OR', 'voters_ratio': 0.59, 'population': 95},\n",
       " {'metropolitan': 'Memphis, TN-MS-AR',\n",
       "  'voters_ratio': 0.61,\n",
       "  'population': 380},\n",
       " {'metropolitan': 'Miami-Fort Lauderdale-West Palm Beach, FL',\n",
       "  'voters_ratio': 0.56,\n",
       "  'population': 981},\n",
       " {'metropolitan': 'Milwaukee-Waukesha-West Allis, WI',\n",
       "  'voters_ratio': 0.72,\n",
       "  'population': 323},\n",
       " {'metropolitan': 'Minneapolis-St Paul-Bloomington, MN-WI',\n",
       "  'voters_ratio': 0.69,\n",
       "  'population': 730},\n",
       " {'metropolitan': 'Mobile, AL', 'voters_ratio': 0.59, 'population': 147},\n",
       " {'metropolitan': 'Modesto, CA', 'voters_ratio': 0.41, 'population': 111},\n",
       " {'metropolitan': 'Monroe, LA', 'voters_ratio': 0.69, 'population': 93},\n",
       " {'metropolitan': 'Monroe, MI', 'voters_ratio': 0.56, 'population': 68},\n",
       " {'metropolitan': 'Montgomery, AL', 'voters_ratio': 0.51, 'population': 138},\n",
       " {'metropolitan': 'Morgantown, WV', 'voters_ratio': 0.41, 'population': 137},\n",
       " {'metropolitan': 'Mount Vernon-Anacortes, WA',\n",
       "  'voters_ratio': 0.59,\n",
       "  'population': 68},\n",
       " {'metropolitan': 'Muskegon-Norton Shores, MI',\n",
       "  'voters_ratio': 0.52,\n",
       "  'population': 50},\n",
       " {'metropolitan': 'Myrtle Beach-Conway-North Myrtle Beach, SC-NC',\n",
       "  'voters_ratio': 0.48,\n",
       "  'population': 107},\n",
       " {'metropolitan': 'NOT IDENTIFIED OR NONMETROPOLITAN',\n",
       "  'voters_ratio': 0.54,\n",
       "  'population': 24221},\n",
       " {'metropolitan': 'Naples-Immokalee-Marco Island, FL',\n",
       "  'voters_ratio': 0.72,\n",
       "  'population': 76},\n",
       " {'metropolitan': 'Nashville-Davidson-Murfreesboro, TN',\n",
       "  'voters_ratio': 0.52,\n",
       "  'population': 491},\n",
       " {'metropolitan': 'New Haven-Milford, CT',\n",
       "  'voters_ratio': 0.53,\n",
       "  'population': 214},\n",
       " {'metropolitan': 'New Orleans-Metairie, LA',\n",
       "  'voters_ratio': 0.55,\n",
       "  'population': 541},\n",
       " {'metropolitan': 'New York-Newark- Jersey City, NY-NJ-PA (White Plains central city recoded to balance of metropolitan)',\n",
       "  'voters_ratio': 0.52,\n",
       "  'population': 3486},\n",
       " {'metropolitan': 'Niles-Benton Harbor, MI',\n",
       "  'voters_ratio': 0.63,\n",
       "  'population': 41},\n",
       " {'metropolitan': 'North Port-Sarasota-Bradenton, FL',\n",
       "  'voters_ratio': 0.39,\n",
       "  'population': 140},\n",
       " {'metropolitan': 'Norwich-New London, CT',\n",
       "  'voters_ratio': 0.55,\n",
       "  'population': 78},\n",
       " {'metropolitan': 'Ocala, FL', 'voters_ratio': 0.69, 'population': 84},\n",
       " {'metropolitan': 'Odessa, TX', 'voters_ratio': 0.42, 'population': 45},\n",
       " {'metropolitan': 'Ogden-Clearfield, UT',\n",
       "  'voters_ratio': 0.53,\n",
       "  'population': 308},\n",
       " {'metropolitan': 'Oklahoma City, OK',\n",
       "  'voters_ratio': 0.53,\n",
       "  'population': 464},\n",
       " {'metropolitan': 'Omaha-Council Bluffs, NE-IA',\n",
       "  'voters_ratio': 0.54,\n",
       "  'population': 488},\n",
       " {'metropolitan': 'Orlando, FL', 'voters_ratio': 0.5, 'population': 443},\n",
       " {'metropolitan': 'Oshkosh-Neenah, WI',\n",
       "  'voters_ratio': 0.58,\n",
       "  'population': 45},\n",
       " {'metropolitan': 'Oxnard-Thousand Oaks-Ventura, CA',\n",
       "  'voters_ratio': 0.67,\n",
       "  'population': 138},\n",
       " {'metropolitan': 'Palm Bay-Melbourne-Titusville, FL',\n",
       "  'voters_ratio': 0.54,\n",
       "  'population': 123},\n",
       " {'metropolitan': 'Panama City, FL', 'voters_ratio': 0.55, 'population': 33},\n",
       " {'metropolitan': 'Pensacola-Ferry Pass-Brent, FL',\n",
       "  'voters_ratio': 0.61,\n",
       "  'population': 99},\n",
       " {'metropolitan': 'Peoria, IL', 'voters_ratio': 0.58, 'population': 103},\n",
       " {'metropolitan': 'Philadelphia-Camden-Wilmington, PA-NJ-DE',\n",
       "  'voters_ratio': 0.58,\n",
       "  'population': 1522},\n",
       " {'metropolitan': 'Phoenix-Mesa-Scottsdale, AZ',\n",
       "  'voters_ratio': 0.58,\n",
       "  'population': 915},\n",
       " {'metropolitan': 'Pine Bluff, AR', 'voters_ratio': 0.44, 'population': 153},\n",
       " {'metropolitan': 'Pittsburgh, PA', 'voters_ratio': 0.63, 'population': 525},\n",
       " {'metropolitan': 'Port St. Lucie-Fort Pierce, FL',\n",
       "  'voters_ratio': 0.49,\n",
       "  'population': 95},\n",
       " {'metropolitan': 'Portland-South Portland, ME',\n",
       "  'voters_ratio': 0.7,\n",
       "  'population': 306},\n",
       " {'metropolitan': 'Portland-Vancouver-Hillsboro, OR-WA',\n",
       "  'voters_ratio': 0.62,\n",
       "  'population': 717},\n",
       " {'metropolitan': 'Prescott, AZ', 'voters_ratio': 0.76, 'population': 78},\n",
       " {'metropolitan': 'Providence-Warwick, RI-MA',\n",
       "  'voters_ratio': 0.53,\n",
       "  'population': 1060},\n",
       " {'metropolitan': 'Provo-Orem, UT', 'voters_ratio': 0.56, 'population': 225},\n",
       " {'metropolitan': 'Racine, WI', 'voters_ratio': 0.44, 'population': 54},\n",
       " {'metropolitan': 'Raleigh, NC', 'voters_ratio': 0.58, 'population': 311},\n",
       " {'metropolitan': 'Reading, PA', 'voters_ratio': 0.56, 'population': 85},\n",
       " {'metropolitan': 'Redding, CA', 'voters_ratio': 0.66, 'population': 71},\n",
       " {'metropolitan': 'Richmond, VA', 'voters_ratio': 0.47, 'population': 284},\n",
       " {'metropolitan': 'Riverside-San Bernardino-Ontario, CA',\n",
       "  'voters_ratio': 0.49,\n",
       "  'population': 782},\n",
       " {'metropolitan': 'Roanoke, VA', 'voters_ratio': 0.47, 'population': 38},\n",
       " {'metropolitan': 'Rochester, NY', 'voters_ratio': 0.48, 'population': 231},\n",
       " {'metropolitan': 'Rockford, IL', 'voters_ratio': 0.52, 'population': 58},\n",
       " {'metropolitan': 'Sacramento--Arden-Arcade–Roseville, CA',\n",
       "  'voters_ratio': 0.55,\n",
       "  'population': 429},\n",
       " {'metropolitan': 'Saginaw, MI', 'voters_ratio': 0.48, 'population': 33},\n",
       " {'metropolitan': 'Salem, OR', 'voters_ratio': 0.66, 'population': 119},\n",
       " {'metropolitan': 'Salinas, CA', 'voters_ratio': 0.49, 'population': 67},\n",
       " {'metropolitan': 'Salisbury, MD', 'voters_ratio': 0.5, 'population': 366},\n",
       " {'metropolitan': 'Salt Lake City, UT',\n",
       "  'voters_ratio': 0.59,\n",
       "  'population': 528},\n",
       " {'metropolitan': 'San Antonio, TX', 'voters_ratio': 0.44, 'population': 443},\n",
       " {'metropolitan': 'San Diego-Carlsbad-San Marcos, CA',\n",
       "  'voters_ratio': 0.56,\n",
       "  'population': 636},\n",
       " {'metropolitan': 'San Francisco-Oakland-Fremont, CA',\n",
       "  'voters_ratio': 0.57,\n",
       "  'population': 854},\n",
       " {'metropolitan': 'San Jose-Sunnyvale-Santa Clara, CA',\n",
       "  'voters_ratio': 0.64,\n",
       "  'population': 303},\n",
       " {'metropolitan': 'San Luis Obispo-Paso Robles, CA',\n",
       "  'voters_ratio': 0.69,\n",
       "  'population': 62},\n",
       " {'metropolitan': 'Santa Cruz-Watsonville, CA',\n",
       "  'voters_ratio': 0.65,\n",
       "  'population': 48},\n",
       " {'metropolitan': 'Santa Fe, NM', 'voters_ratio': 0.5, 'population': 109},\n",
       " {'metropolitan': 'Santa Maria-Santa Barbara, CA',\n",
       "  'voters_ratio': 0.53,\n",
       "  'population': 83},\n",
       " {'metropolitan': 'Santa Rosa-Petaluma, CA',\n",
       "  'voters_ratio': 0.71,\n",
       "  'population': 91},\n",
       " {'metropolitan': 'Savannah, GA', 'voters_ratio': 0.38, 'population': 99},\n",
       " {'metropolitan': 'Scranton--Wilkes-Barre, PA',\n",
       "  'voters_ratio': 0.5,\n",
       "  'population': 101},\n",
       " {'metropolitan': 'Seattle-Tacoma-Bellevue, WA',\n",
       "  'voters_ratio': 0.66,\n",
       "  'population': 832},\n",
       " {'metropolitan': 'Sherman-Dennison, TX',\n",
       "  'voters_ratio': 0.5,\n",
       "  'population': 70},\n",
       " {'metropolitan': 'Shreveport-Bossier City, LA',\n",
       "  'voters_ratio': 0.44,\n",
       "  'population': 216},\n",
       " {'metropolitan': 'Sioux Falls, SD', 'voters_ratio': 0.5, 'population': 373},\n",
       " {'metropolitan': 'South Bend-Mishawaka, IN-MI',\n",
       "  'voters_ratio': 0.51,\n",
       "  'population': 55},\n",
       " {'metropolitan': 'Spartanburg, SC', 'voters_ratio': 0.51, 'population': 98},\n",
       " {'metropolitan': 'Spokane-Spokane Valley, WA',\n",
       "  'voters_ratio': 0.57,\n",
       "  'population': 124},\n",
       " {'metropolitan': 'Springfield, IL', 'voters_ratio': 0.47, 'population': 72},\n",
       " {'metropolitan': 'Springfield, MA', 'voters_ratio': 0.5, 'population': 194},\n",
       " {'metropolitan': 'Springfield, MO', 'voters_ratio': 0.52, 'population': 103},\n",
       " {'metropolitan': 'St. George, UT', 'voters_ratio': 0.74, 'population': 98},\n",
       " {'metropolitan': 'St. Louis, MO-IL', 'voters_ratio': 0.6, 'population': 629},\n",
       " {'metropolitan': 'Stockton-Lodi, CA',\n",
       "  'voters_ratio': 0.46,\n",
       "  'population': 133},\n",
       " {'metropolitan': 'Syracuse, NY', 'voters_ratio': 0.62, 'population': 126},\n",
       " {'metropolitan': 'Tallahassee, FL', 'voters_ratio': 0.62, 'population': 73},\n",
       " {'metropolitan': 'Tampa-St. Petersburg-Clearwater, FL',\n",
       "  'voters_ratio': 0.52,\n",
       "  'population': 622},\n",
       " {'metropolitan': 'Terre Haute, IN', 'voters_ratio': 0.42, 'population': 62},\n",
       " {'metropolitan': 'Toledo, OH', 'voters_ratio': 0.55, 'population': 101},\n",
       " {'metropolitan': 'Topeka, KS', 'voters_ratio': 0.45, 'population': 74},\n",
       " {'metropolitan': 'Trenton, NJ', 'voters_ratio': 0.55, 'population': 44},\n",
       " {'metropolitan': 'Tucson, AZ', 'voters_ratio': 0.62, 'population': 230},\n",
       " {'metropolitan': 'Tulsa, OK', 'voters_ratio': 0.47, 'population': 355},\n",
       " {'metropolitan': 'Tyler, TX', 'voters_ratio': 0.68, 'population': 37},\n",
       " {'metropolitan': 'Urban Honolulu, HI',\n",
       "  'voters_ratio': 0.45,\n",
       "  'population': 891},\n",
       " {'metropolitan': 'Utica-Rome, NY', 'voters_ratio': 0.16, 'population': 58},\n",
       " {'metropolitan': 'Vallejo-Fairfield, CA',\n",
       "  'voters_ratio': 0.37,\n",
       "  'population': 78},\n",
       " {'metropolitan': 'Vineland-Bridgeton, NJ',\n",
       "  'voters_ratio': 0.4,\n",
       "  'population': 15},\n",
       " {'metropolitan': 'Virginia Beach-Norfolk-Newport News, VA-NC',\n",
       "  'voters_ratio': 0.66,\n",
       "  'population': 311},\n",
       " {'metropolitan': 'Visalia-Porterville, CA',\n",
       "  'voters_ratio': 0.37,\n",
       "  'population': 70},\n",
       " {'metropolitan': 'Waco, TX', 'voters_ratio': 0.52, 'population': 42},\n",
       " {'metropolitan': 'Warner Robins, GA', 'voters_ratio': 0.67, 'population': 45},\n",
       " {'metropolitan': 'Washington-Arlington-Alexandria, DC-VA-MD-WV',\n",
       "  'voters_ratio': 0.63,\n",
       "  'population': 2459},\n",
       " {'metropolitan': 'Waterloo-Cedar Falls, IA',\n",
       "  'voters_ratio': 0.64,\n",
       "  'population': 90},\n",
       " {'metropolitan': 'Watertown-Fort Drum, NY',\n",
       "  'voters_ratio': 0.43,\n",
       "  'population': 56},\n",
       " {'metropolitan': 'Wausau, WI', 'voters_ratio': 0.65, 'population': 37},\n",
       " {'metropolitan': 'Wichita Falls, TX', 'voters_ratio': 0.48, 'population': 44},\n",
       " {'metropolitan': 'Wichita, KS', 'voters_ratio': 0.6, 'population': 249},\n",
       " {'metropolitan': 'Williamsport, PA', 'voters_ratio': 0.45, 'population': 60},\n",
       " {'metropolitan': 'Winchester, VA-WV', 'voters_ratio': 0.57, 'population': 54},\n",
       " {'metropolitan': 'Winston-Salem, NC',\n",
       "  'voters_ratio': 0.57,\n",
       "  'population': 136},\n",
       " {'metropolitan': 'Worcester, MA-CT', 'voters_ratio': 0.63, 'population': 266},\n",
       " {'metropolitan': 'York-Hanover, PA', 'voters_ratio': 0.63, 'population': 102},\n",
       " {'metropolitan': 'Youngstown-Warren-Boardman, OH-PA',\n",
       "  'voters_ratio': 0.63,\n",
       "  'population': 131},\n",
       " {'metropolitan': 'Yuma, AZ', 'voters_ratio': 0.59, 'population': 59}]"
      ]
     },
     "execution_count": 42,
     "metadata": {},
     "output_type": "execute_result"
    }
   ],
   "source": [
    "list_voters_ratio"
   ]
  },
  {
   "cell_type": "code",
   "execution_count": 43,
   "metadata": {},
   "outputs": [],
   "source": [
    "df_voters_ratio = pd.DataFrame(list_voters_ratio)"
   ]
  },
  {
   "cell_type": "code",
   "execution_count": 47,
   "metadata": {},
   "outputs": [
    {
     "data": {
      "text/html": [
       "<div>\n",
       "<style scoped>\n",
       "    .dataframe tbody tr th:only-of-type {\n",
       "        vertical-align: middle;\n",
       "    }\n",
       "\n",
       "    .dataframe tbody tr th {\n",
       "        vertical-align: top;\n",
       "    }\n",
       "\n",
       "    .dataframe thead th {\n",
       "        text-align: right;\n",
       "    }\n",
       "</style>\n",
       "<table border=\"1\" class=\"dataframe\">\n",
       "  <thead>\n",
       "    <tr style=\"text-align: right;\">\n",
       "      <th></th>\n",
       "      <th>metropolitan</th>\n",
       "      <th>voters_ratio</th>\n",
       "      <th>population</th>\n",
       "    </tr>\n",
       "  </thead>\n",
       "  <tbody>\n",
       "    <tr>\n",
       "      <th>0</th>\n",
       "      <td>Abilene, TX</td>\n",
       "      <td>0.63</td>\n",
       "      <td>46</td>\n",
       "    </tr>\n",
       "    <tr>\n",
       "      <th>1</th>\n",
       "      <td>Akron, OH</td>\n",
       "      <td>0.34</td>\n",
       "      <td>169</td>\n",
       "    </tr>\n",
       "    <tr>\n",
       "      <th>2</th>\n",
       "      <td>Albany-Schenectady-Troy, NY</td>\n",
       "      <td>0.47</td>\n",
       "      <td>160</td>\n",
       "    </tr>\n",
       "    <tr>\n",
       "      <th>3</th>\n",
       "      <td>Albuquerque, NM</td>\n",
       "      <td>0.58</td>\n",
       "      <td>731</td>\n",
       "    </tr>\n",
       "    <tr>\n",
       "      <th>4</th>\n",
       "      <td>Allentown-Bethlehem-Easton, PA-NJ</td>\n",
       "      <td>0.56</td>\n",
       "      <td>147</td>\n",
       "    </tr>\n",
       "    <tr>\n",
       "      <th>...</th>\n",
       "      <td>...</td>\n",
       "      <td>...</td>\n",
       "      <td>...</td>\n",
       "    </tr>\n",
       "    <tr>\n",
       "      <th>256</th>\n",
       "      <td>Winston-Salem, NC</td>\n",
       "      <td>0.57</td>\n",
       "      <td>136</td>\n",
       "    </tr>\n",
       "    <tr>\n",
       "      <th>257</th>\n",
       "      <td>Worcester, MA-CT</td>\n",
       "      <td>0.63</td>\n",
       "      <td>266</td>\n",
       "    </tr>\n",
       "    <tr>\n",
       "      <th>258</th>\n",
       "      <td>York-Hanover, PA</td>\n",
       "      <td>0.63</td>\n",
       "      <td>102</td>\n",
       "    </tr>\n",
       "    <tr>\n",
       "      <th>259</th>\n",
       "      <td>Youngstown-Warren-Boardman, OH-PA</td>\n",
       "      <td>0.63</td>\n",
       "      <td>131</td>\n",
       "    </tr>\n",
       "    <tr>\n",
       "      <th>260</th>\n",
       "      <td>Yuma, AZ</td>\n",
       "      <td>0.59</td>\n",
       "      <td>59</td>\n",
       "    </tr>\n",
       "  </tbody>\n",
       "</table>\n",
       "<p>261 rows × 3 columns</p>\n",
       "</div>"
      ],
      "text/plain": [
       "                          metropolitan  voters_ratio  population\n",
       "0                          Abilene, TX          0.63          46\n",
       "1                            Akron, OH          0.34         169\n",
       "2          Albany-Schenectady-Troy, NY          0.47         160\n",
       "3                      Albuquerque, NM          0.58         731\n",
       "4    Allentown-Bethlehem-Easton, PA-NJ          0.56         147\n",
       "..                                 ...           ...         ...\n",
       "256                  Winston-Salem, NC          0.57         136\n",
       "257                   Worcester, MA-CT          0.63         266\n",
       "258                   York-Hanover, PA          0.63         102\n",
       "259  Youngstown-Warren-Boardman, OH-PA          0.63         131\n",
       "260                           Yuma, AZ          0.59          59\n",
       "\n",
       "[261 rows x 3 columns]"
      ]
     },
     "execution_count": 47,
     "metadata": {},
     "output_type": "execute_result"
    }
   ],
   "source": [
    "df_voters_ratio"
   ]
  },
  {
   "cell_type": "code",
   "execution_count": 52,
   "metadata": {},
   "outputs": [
    {
     "data": {
      "image/png": "[encoded data removed]",
      "text/plain": [
       "<Figure size 432x288 with 1 Axes>"
      ]
     },
     "metadata": {
      "needs_background": "light"
     },
     "output_type": "display_data"
    }
   ],
   "source": [
    "sns.distplot(df_voters_ratio.voters_ratio, bins=12);"
   ]
  },
  {
   "cell_type": "markdown",
   "metadata": {},
   "source": [
    "## Save Aggregated DataFrame"
   ]
  },
  {
   "cell_type": "code",
   "execution_count": 45,
   "metadata": {},
   "outputs": [],
   "source": [
    "df_voters_ratio.to_csv('../data/Community_Context/data_voters_ratio.csv')"
   ]
  }
 ],
 "metadata": {
  "kernelspec": {
   "display_name": "Python 3",
   "language": "python",
   "name": "python3"
  },
  "language_info": {
   "codemirror_mode": {
    "name": "ipython",
    "version": 3
   },
   "file_extension": ".py",
   "mimetype": "text/x-python",
   "name": "python",
   "nbconvert_exporter": "python",
   "pygments_lexer": "ipython3",
   "version": "3.6.5"
  }
 },
 "nbformat": 4,
 "nbformat_minor": 2
}
