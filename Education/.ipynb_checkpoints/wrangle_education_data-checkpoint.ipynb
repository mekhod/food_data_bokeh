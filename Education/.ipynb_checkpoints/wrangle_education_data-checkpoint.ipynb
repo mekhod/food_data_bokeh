{
 "cells": [
  {
   "cell_type": "code",
   "execution_count": 1,
   "metadata": {},
   "outputs": [],
   "source": [
    "import sys"
   ]
  },
  {
   "cell_type": "code",
   "execution_count": 2,
   "metadata": {},
   "outputs": [],
   "source": [
    "sys.path.append('/home/ec2-user/SageMaker/')\n",
    "sys.path.append('/home/ec2-user/SageMaker/bokeh_interactive/')\n",
    "sys.path.append('/home/ec2-user/SageMaker/bokeh_interactive/tools/')\n",
    "sys.path.append('/home/ec2-user/SageMaker/bokeh_interactive/tools/wrangle_data.py')\n",
    "sys.path.append(\"tools/wrangle_data.py\")\n",
    "sys.path.append(\"/Users\\mekho\\Documents\\PycharmProjects\\Quiz_Food_LinkedIn\")"
   ]
  },
  {
   "cell_type": "code",
   "execution_count": 3,
   "metadata": {},
   "outputs": [],
   "source": [
    "from tools.wrangle_data import parse_education_data"
   ]
  },
  {
   "cell_type": "code",
   "execution_count": 4,
   "metadata": {},
   "outputs": [],
   "source": [
    "import pandas as pd\n",
    "import seaborn as sns\n",
    "import numpy as np\n",
    "import multiprocessing as mp\n",
    "from multiprocessing import Pool\n",
    "import pickle\n"
   ]
  },
  {
   "cell_type": "code",
   "execution_count": 5,
   "metadata": {},
   "outputs": [
    {
     "data": {
      "text/plain": [
       "8"
      ]
     },
     "execution_count": 5,
     "metadata": {},
     "output_type": "execute_result"
    }
   ],
   "source": [
    "mp.cpu_count()"
   ]
  },
  {
   "cell_type": "code",
   "execution_count": 6,
   "metadata": {},
   "outputs": [],
   "source": [
    "df_community = pd.read_csv(\"../data/Community_Context/nov18pub.dat\", header=None)\n",
    "\n",
    "\n",
    "works = [df_community.values.squeeze()[i] for i in range(len(df_community.values.squeeze()))]\n"
   ]
  },
  {
   "cell_type": "code",
   "execution_count": 7,
   "metadata": {},
   "outputs": [],
   "source": [
    "pool = Pool(processes=4)"
   ]
  },
  {
   "cell_type": "code",
   "execution_count": 8,
   "metadata": {},
   "outputs": [],
   "source": [
    "results = pool.map(parse_education_data, works)"
   ]
  },
  {
   "cell_type": "code",
   "execution_count": 9,
   "metadata": {},
   "outputs": [],
   "source": [
    "df_results = pd.DataFrame(results)"
   ]
  },
  {
   "cell_type": "code",
   "execution_count": 10,
   "metadata": {},
   "outputs": [
    {
     "data": {
      "text/plain": [
       "(143050, 7)"
      ]
     },
     "execution_count": 10,
     "metadata": {},
     "output_type": "execute_result"
    }
   ],
   "source": [
    "df_results.shape"
   ]
  },
  {
   "cell_type": "code",
   "execution_count": 11,
   "metadata": {},
   "outputs": [
    {
     "data": {
      "text/plain": [
       "Index(['interview_type', 'education_type', 'age_range', 'year_of_interview',\n",
       "       'state_code', 'metropolitan_code', 'county_code'],\n",
       "      dtype='object')"
      ]
     },
     "execution_count": 11,
     "metadata": {},
     "output_type": "execute_result"
    }
   ],
   "source": [
    "df_results.columns"
   ]
  },
  {
   "cell_type": "code",
   "execution_count": 12,
   "metadata": {},
   "outputs": [
    {
     "data": {
      "text/plain": [
       "-1    42658\n",
       "39    27882\n",
       "43    20231\n",
       "40    17219\n",
       "44     8560\n",
       "42     5441\n",
       "41     4152\n",
       "37     3208\n",
       "36     2896\n",
       "35     2618\n",
       "46     1797\n",
       "34     1772\n",
       "38     1557\n",
       "45     1270\n",
       "33     1018\n",
       "32      489\n",
       "31      282\n",
       "Name: education_type, dtype: int64"
      ]
     },
     "execution_count": 12,
     "metadata": {},
     "output_type": "execute_result"
    }
   ],
   "source": [
    "df_results.education_type.value_counts()"
   ]
  },
  {
   "cell_type": "code",
   "execution_count": 13,
   "metadata": {},
   "outputs": [
    {
     "data": {
      "text/plain": [
       " 1    122744\n",
       " 3     10141\n",
       " 2      9642\n",
       " 4       523\n",
       "Name: interview_type, dtype: int64"
      ]
     },
     "execution_count": 13,
     "metadata": {},
     "output_type": "execute_result"
    }
   ],
   "source": [
    "df_results.interview_type.value_counts()"
   ]
  },
  {
   "cell_type": "code",
   "execution_count": 14,
   "metadata": {},
   "outputs": [
    {
     "data": {
      "text/plain": [
       " 2    99942\n",
       " 1    22352\n",
       "-1    20306\n",
       " 3      450\n",
       "Name: age_range, dtype: int64"
      ]
     },
     "execution_count": 14,
     "metadata": {},
     "output_type": "execute_result"
    }
   ],
   "source": [
    "df_results.age_range.value_counts()"
   ]
  },
  {
   "cell_type": "markdown",
   "metadata": {},
   "source": [
    "## Remove Unqualified Interviewees"
   ]
  },
  {
   "cell_type": "code",
   "execution_count": 15,
   "metadata": {},
   "outputs": [],
   "source": [
    "df_results_filtered = df_results.loc[df_results.education_type != '-1', :]"
   ]
  },
  {
   "cell_type": "code",
   "execution_count": 16,
   "metadata": {},
   "outputs": [
    {
     "data": {
      "text/plain": [
       "(100392, 7)"
      ]
     },
     "execution_count": 16,
     "metadata": {},
     "output_type": "execute_result"
    }
   ],
   "source": [
    "df_results_filtered.shape"
   ]
  },
  {
   "cell_type": "code",
   "execution_count": 17,
   "metadata": {},
   "outputs": [
    {
     "data": {
      "text/html": [
       "<div>\n",
       "<style scoped>\n",
       "    .dataframe tbody tr th:only-of-type {\n",
       "        vertical-align: middle;\n",
       "    }\n",
       "\n",
       "    .dataframe tbody tr th {\n",
       "        vertical-align: top;\n",
       "    }\n",
       "\n",
       "    .dataframe thead th {\n",
       "        text-align: right;\n",
       "    }\n",
       "</style>\n",
       "<table border=\"1\" class=\"dataframe\">\n",
       "  <thead>\n",
       "    <tr style=\"text-align: right;\">\n",
       "      <th></th>\n",
       "      <th>interview_type</th>\n",
       "      <th>education_type</th>\n",
       "      <th>age_range</th>\n",
       "      <th>year_of_interview</th>\n",
       "      <th>state_code</th>\n",
       "      <th>metropolitan_code</th>\n",
       "      <th>county_code</th>\n",
       "    </tr>\n",
       "  </thead>\n",
       "  <tbody>\n",
       "    <tr>\n",
       "      <th>0</th>\n",
       "      <td>1</td>\n",
       "      <td>39</td>\n",
       "      <td>2</td>\n",
       "      <td>2018</td>\n",
       "      <td>01</td>\n",
       "      <td>33860</td>\n",
       "      <td>000</td>\n",
       "    </tr>\n",
       "    <tr>\n",
       "      <th>1</th>\n",
       "      <td>1</td>\n",
       "      <td>39</td>\n",
       "      <td>2</td>\n",
       "      <td>2018</td>\n",
       "      <td>01</td>\n",
       "      <td>33860</td>\n",
       "      <td>000</td>\n",
       "    </tr>\n",
       "  </tbody>\n",
       "</table>\n",
       "</div>"
      ],
      "text/plain": [
       "  interview_type education_type age_range year_of_interview state_code  \\\n",
       "0              1             39         2              2018         01   \n",
       "1              1             39         2              2018         01   \n",
       "\n",
       "  metropolitan_code county_code  \n",
       "0             33860         000  \n",
       "1             33860         000  "
      ]
     },
     "execution_count": 17,
     "metadata": {},
     "output_type": "execute_result"
    }
   ],
   "source": [
    "df_results_filtered.head(2)"
   ]
  },
  {
   "cell_type": "code",
   "execution_count": 18,
   "metadata": {},
   "outputs": [
    {
     "data": {
      "text/plain": [
       "2018    100392\n",
       "Name: year_of_interview, dtype: int64"
      ]
     },
     "execution_count": 18,
     "metadata": {},
     "output_type": "execute_result"
    }
   ],
   "source": [
    "df_results_filtered.year_of_interview.value_counts()"
   ]
  },
  {
   "cell_type": "markdown",
   "metadata": {},
   "source": [
    "## Map metropolitan_code"
   ]
  },
  {
   "cell_type": "code",
   "execution_count": 19,
   "metadata": {},
   "outputs": [],
   "source": [
    "with open('../data/Community_Context/mappers.pkl', 'rb') as f:\n",
    "    mappers_all = pickle.load(f)"
   ]
  },
  {
   "cell_type": "code",
   "execution_count": 20,
   "metadata": {},
   "outputs": [
    {
     "data": {
      "text/plain": [
       "dict_keys(['mapper_metro', 'mapper_age_range', 'mapper_interview_type', 'mapper_state_code', 'mapper_registered_type', 'mapper_voting_type', 'mapper_education_type'])"
      ]
     },
     "execution_count": 20,
     "metadata": {},
     "output_type": "execute_result"
    }
   ],
   "source": [
    "mappers_all.keys()"
   ]
  },
  {
   "cell_type": "code",
   "execution_count": 21,
   "metadata": {},
   "outputs": [],
   "source": [
    "mapper_metro = mappers_all['mapper_metro']"
   ]
  },
  {
   "cell_type": "code",
   "execution_count": 22,
   "metadata": {},
   "outputs": [
    {
     "data": {
      "text/plain": [
       "set()"
      ]
     },
     "execution_count": 22,
     "metadata": {},
     "output_type": "execute_result"
    }
   ],
   "source": [
    "set(df_results_filtered.metropolitan_code) - set(mapper_metro.keys())"
   ]
  },
  {
   "cell_type": "code",
   "execution_count": 23,
   "metadata": {},
   "outputs": [
    {
     "name": "stderr",
     "output_type": "stream",
     "text": [
      "C:\\Users\\mekho\\Documents\\PycharmProjects\\venvs\\LinkedIn_Quiz_env\\lib\\site-packages\\pandas\\core\\generic.py:5208: SettingWithCopyWarning: \n",
      "A value is trying to be set on a copy of a slice from a DataFrame.\n",
      "Try using .loc[row_indexer,col_indexer] = value instead\n",
      "\n",
      "See the caveats in the documentation: http://pandas.pydata.org/pandas-docs/stable/user_guide/indexing.html#returning-a-view-versus-a-copy\n",
      "  self[name] = value\n"
     ]
    }
   ],
   "source": [
    "df_results_filtered.metropolitan_code = list(df_results_filtered.metropolitan_code.map(mapper_metro))"
   ]
  },
  {
   "cell_type": "code",
   "execution_count": 24,
   "metadata": {},
   "outputs": [
    {
     "data": {
      "text/plain": [
       "0                            Montgomery, AL\n",
       "1                            Montgomery, AL\n",
       "2                            Montgomery, AL\n",
       "3                 Daphne-Fairhope-Foley, AL\n",
       "4                 Daphne-Fairhope-Foley, AL\n",
       "                        ...                \n",
       "143030    NOT IDENTIFIED OR NONMETROPOLITAN\n",
       "143031    NOT IDENTIFIED OR NONMETROPOLITAN\n",
       "143035    NOT IDENTIFIED OR NONMETROPOLITAN\n",
       "143036    NOT IDENTIFIED OR NONMETROPOLITAN\n",
       "143038    NOT IDENTIFIED OR NONMETROPOLITAN\n",
       "Name: metropolitan_code, Length: 100392, dtype: object"
      ]
     },
     "execution_count": 24,
     "metadata": {},
     "output_type": "execute_result"
    }
   ],
   "source": [
    "df_results_filtered.metropolitan_code"
   ]
  },
  {
   "cell_type": "code",
   "execution_count": 25,
   "metadata": {},
   "outputs": [
    {
     "data": {
      "text/plain": [
       "set()"
      ]
     },
     "execution_count": 25,
     "metadata": {},
     "output_type": "execute_result"
    }
   ],
   "source": [
    "set(df_results_filtered.metropolitan_code) - set(mapper_metro.values())"
   ]
  },
  {
   "cell_type": "markdown",
   "metadata": {},
   "source": [
    "## Map education_type"
   ]
  },
  {
   "cell_type": "code",
   "execution_count": 26,
   "metadata": {},
   "outputs": [],
   "source": [
    "mapper_education_type = mappers_all['mapper_education_type']"
   ]
  },
  {
   "cell_type": "code",
   "execution_count": 27,
   "metadata": {},
   "outputs": [
    {
     "data": {
      "text/plain": [
       "set()"
      ]
     },
     "execution_count": 27,
     "metadata": {},
     "output_type": "execute_result"
    }
   ],
   "source": [
    "set(df_results_filtered.education_type) - set(mapper_education_type.keys())"
   ]
  },
  {
   "cell_type": "code",
   "execution_count": 31,
   "metadata": {},
   "outputs": [
    {
     "name": "stderr",
     "output_type": "stream",
     "text": [
      "C:\\Users\\mekho\\Documents\\PycharmProjects\\venvs\\LinkedIn_Quiz_env\\lib\\site-packages\\pandas\\core\\indexing.py:576: SettingWithCopyWarning: \n",
      "A value is trying to be set on a copy of a slice from a DataFrame.\n",
      "Try using .loc[row_indexer,col_indexer] = value instead\n",
      "\n",
      "See the caveats in the documentation: http://pandas.pydata.org/pandas-docs/stable/user_guide/indexing.html#returning-a-view-versus-a-copy\n",
      "  self.obj[item_labels[indexer[info_axis]]] = value\n"
     ]
    }
   ],
   "source": [
    "df_results_filtered.loc[:, 'education_code'] = df_results_filtered.education_type"
   ]
  },
  {
   "cell_type": "code",
   "execution_count": 29,
   "metadata": {},
   "outputs": [
    {
     "data": {
      "text/html": [
       "<div>\n",
       "<style scoped>\n",
       "    .dataframe tbody tr th:only-of-type {\n",
       "        vertical-align: middle;\n",
       "    }\n",
       "\n",
       "    .dataframe tbody tr th {\n",
       "        vertical-align: top;\n",
       "    }\n",
       "\n",
       "    .dataframe thead th {\n",
       "        text-align: right;\n",
       "    }\n",
       "</style>\n",
       "<table border=\"1\" class=\"dataframe\">\n",
       "  <thead>\n",
       "    <tr style=\"text-align: right;\">\n",
       "      <th></th>\n",
       "      <th>interview_type</th>\n",
       "      <th>education_type</th>\n",
       "      <th>age_range</th>\n",
       "      <th>year_of_interview</th>\n",
       "      <th>state_code</th>\n",
       "      <th>metropolitan_code</th>\n",
       "      <th>county_code</th>\n",
       "      <th>education_code</th>\n",
       "    </tr>\n",
       "  </thead>\n",
       "  <tbody>\n",
       "    <tr>\n",
       "      <th>0</th>\n",
       "      <td>1</td>\n",
       "      <td>39</td>\n",
       "      <td>2</td>\n",
       "      <td>2018</td>\n",
       "      <td>01</td>\n",
       "      <td>Montgomery, AL</td>\n",
       "      <td>000</td>\n",
       "      <td>39</td>\n",
       "    </tr>\n",
       "    <tr>\n",
       "      <th>1</th>\n",
       "      <td>1</td>\n",
       "      <td>39</td>\n",
       "      <td>2</td>\n",
       "      <td>2018</td>\n",
       "      <td>01</td>\n",
       "      <td>Montgomery, AL</td>\n",
       "      <td>000</td>\n",
       "      <td>39</td>\n",
       "    </tr>\n",
       "  </tbody>\n",
       "</table>\n",
       "</div>"
      ],
      "text/plain": [
       "  interview_type education_type age_range year_of_interview state_code  \\\n",
       "0              1             39         2              2018         01   \n",
       "1              1             39         2              2018         01   \n",
       "\n",
       "  metropolitan_code county_code education_code  \n",
       "0    Montgomery, AL         000             39  \n",
       "1    Montgomery, AL         000             39  "
      ]
     },
     "execution_count": 29,
     "metadata": {},
     "output_type": "execute_result"
    }
   ],
   "source": [
    "df_results_filtered.head(2)"
   ]
  },
  {
   "cell_type": "code",
   "execution_count": 33,
   "metadata": {},
   "outputs": [],
   "source": [
    "df_results_filtered.education_type = list(df_results_filtered.education_type.map(mapper_education_type))"
   ]
  },
  {
   "cell_type": "code",
   "execution_count": 34,
   "metadata": {},
   "outputs": [
    {
     "data": {
      "text/plain": [
       "HIGH SCHOOL GRAD-DIPLOMA OR EQUIV (GED)      27882\n",
       "BACHELOR'S DEGREE (EX: BA, AB, BS)           20231\n",
       "SOME COLLEGE BUT NO DEGREE                   17219\n",
       "MASTER'S DEGREE (EX:MA,MS,MEng,MEd, MSW)      8560\n",
       "ASSOCIATEDEGREE-ACADEMICPROGRAM               5441\n",
       "ASSOCIATE DEGREE-OCCUPATIONAL/VOCATIONAL      4152\n",
       "11TH GRADE                                    3208\n",
       "10TH GRADE                                    2896\n",
       "9TH GRADE                                     2618\n",
       "DOCTORATE DEGREE (EX: PhD, EdD)               1797\n",
       "7TH OR 8TH GRADE                              1772\n",
       "12TH GRADE NO DIPLOMA                         1557\n",
       "PROFESSIONAL SCHOOL DEG (EX:MD, DDS, DVM)     1270\n",
       "5TH OR 6TH GRADE                              1018\n",
       "1ST, 2ND, 3RD OR 4TH GRADE                     489\n",
       "LESS THAN 1ST GRADE                            282\n",
       "Name: education_type, dtype: int64"
      ]
     },
     "execution_count": 34,
     "metadata": {},
     "output_type": "execute_result"
    }
   ],
   "source": [
    "df_results_filtered.education_type.value_counts()"
   ]
  },
  {
   "cell_type": "code",
   "execution_count": 35,
   "metadata": {},
   "outputs": [
    {
     "data": {
      "text/plain": [
       "set()"
      ]
     },
     "execution_count": 35,
     "metadata": {},
     "output_type": "execute_result"
    }
   ],
   "source": [
    "set(df_results_filtered.education_type) - set(mapper_education_type.values())"
   ]
  },
  {
   "cell_type": "markdown",
   "metadata": {},
   "source": [
    "## Save Community DataFrame"
   ]
  },
  {
   "cell_type": "code",
   "execution_count": 41,
   "metadata": {},
   "outputs": [],
   "source": [
    "df_results_filtered.education_code = df_results_filtered.education_code.astype('float')"
   ]
  },
  {
   "cell_type": "code",
   "execution_count": 42,
   "metadata": {},
   "outputs": [
    {
     "data": {
      "text/html": [
       "<div>\n",
       "<style scoped>\n",
       "    .dataframe tbody tr th:only-of-type {\n",
       "        vertical-align: middle;\n",
       "    }\n",
       "\n",
       "    .dataframe tbody tr th {\n",
       "        vertical-align: top;\n",
       "    }\n",
       "\n",
       "    .dataframe thead th {\n",
       "        text-align: right;\n",
       "    }\n",
       "</style>\n",
       "<table border=\"1\" class=\"dataframe\">\n",
       "  <thead>\n",
       "    <tr style=\"text-align: right;\">\n",
       "      <th></th>\n",
       "      <th>interview_type</th>\n",
       "      <th>education_type</th>\n",
       "      <th>age_range</th>\n",
       "      <th>year_of_interview</th>\n",
       "      <th>state_code</th>\n",
       "      <th>metropolitan_code</th>\n",
       "      <th>county_code</th>\n",
       "      <th>education_code</th>\n",
       "    </tr>\n",
       "  </thead>\n",
       "  <tbody>\n",
       "    <tr>\n",
       "      <th>0</th>\n",
       "      <td>1</td>\n",
       "      <td>HIGH SCHOOL GRAD-DIPLOMA OR EQUIV (GED)</td>\n",
       "      <td>2</td>\n",
       "      <td>2018</td>\n",
       "      <td>01</td>\n",
       "      <td>Montgomery, AL</td>\n",
       "      <td>000</td>\n",
       "      <td>39.0</td>\n",
       "    </tr>\n",
       "    <tr>\n",
       "      <th>1</th>\n",
       "      <td>1</td>\n",
       "      <td>HIGH SCHOOL GRAD-DIPLOMA OR EQUIV (GED)</td>\n",
       "      <td>2</td>\n",
       "      <td>2018</td>\n",
       "      <td>01</td>\n",
       "      <td>Montgomery, AL</td>\n",
       "      <td>000</td>\n",
       "      <td>39.0</td>\n",
       "    </tr>\n",
       "  </tbody>\n",
       "</table>\n",
       "</div>"
      ],
      "text/plain": [
       "  interview_type                           education_type age_range  \\\n",
       "0              1  HIGH SCHOOL GRAD-DIPLOMA OR EQUIV (GED)         2   \n",
       "1              1  HIGH SCHOOL GRAD-DIPLOMA OR EQUIV (GED)         2   \n",
       "\n",
       "  year_of_interview state_code metropolitan_code county_code  education_code  \n",
       "0              2018         01    Montgomery, AL         000            39.0  \n",
       "1              2018         01    Montgomery, AL         000            39.0  "
      ]
     },
     "execution_count": 42,
     "metadata": {},
     "output_type": "execute_result"
    }
   ],
   "source": [
    "df_results_filtered.head(2)"
   ]
  },
  {
   "cell_type": "code",
   "execution_count": 37,
   "metadata": {},
   "outputs": [],
   "source": [
    "df_results_filtered.to_csv('../data/Education/data_education.csv')"
   ]
  },
  {
   "cell_type": "markdown",
   "metadata": {},
   "source": [
    "## Aggregate Education Data"
   ]
  },
  {
   "cell_type": "code",
   "execution_count": 64,
   "metadata": {},
   "outputs": [],
   "source": [
    "list_education_weight = []"
   ]
  },
  {
   "cell_type": "code",
   "execution_count": 65,
   "metadata": {},
   "outputs": [],
   "source": [
    "def compute_education_weight(chunk):\n",
    "    dict_education_weight = {}\n",
    "    dict_education_weight['metropolitan'] = chunk.loc[:, ['metropolitan_code']].values.squeeze()[0]\n",
    "    bool_2 = chunk.education_code == 46\n",
    "    \n",
    "    if sum(bool_2) != 0:\n",
    "        chunk.loc[bool_2, 'education_code'] = 45\n",
    "\n",
    "    dict_education_weight['education_weight'] = chunk.loc[:, ['education_code']].values.squeeze() - 31\n",
    "    dict_education_weight['education_weight'] = sum(dict_education_weight['education_weight']) / len(dict_education_weight['education_weight'])\n",
    "    dict_education_weight['population'] = len(chunk)\n",
    "    list_education_weight.append(dict_education_weight)\n",
    "    return"
   ]
  },
  {
   "cell_type": "code",
   "execution_count": 66,
   "metadata": {},
   "outputs": [],
   "source": [
    "sth = df_results_filtered.groupby('metropolitan_code', group_keys=False).apply(lambda chunk: compute_education_weight(chunk))"
   ]
  },
  {
   "cell_type": "code",
   "execution_count": 67,
   "metadata": {},
   "outputs": [
    {
     "data": {
      "text/plain": [
       "[{'metropolitan': 'Abilene, TX', 'education_weight': 10.375, 'population': 48},\n",
       " {'metropolitan': 'Akron, OH', 'education_weight': 8.88, 'population': 175},\n",
       " {'metropolitan': 'Albany-Schenectady-Troy, NY',\n",
       "  'education_weight': 9.994285714285715,\n",
       "  'population': 175},\n",
       " {'metropolitan': 'Albuquerque, NM',\n",
       "  'education_weight': 9.429268292682927,\n",
       "  'population': 820},\n",
       " {'metropolitan': 'Allentown-Bethlehem-Easton, PA-NJ',\n",
       "  'education_weight': 9.44848484848485,\n",
       "  'population': 165},\n",
       " {'metropolitan': 'Amarillo, TX',\n",
       "  'education_weight': 9.266666666666667,\n",
       "  'population': 60},\n",
       " {'metropolitan': 'Ann Arbor, MI',\n",
       "  'education_weight': 10.684931506849315,\n",
       "  'population': 73},\n",
       " {'metropolitan': 'Appleton, WI',\n",
       "  'education_weight': 9.842105263157896,\n",
       "  'population': 57},\n",
       " {'metropolitan': 'Asheville, NC',\n",
       "  'education_weight': 9.698275862068966,\n",
       "  'population': 116},\n",
       " {'metropolitan': 'Athens-Clarke County, GA',\n",
       "  'education_weight': 9.181818181818182,\n",
       "  'population': 55},\n",
       " {'metropolitan': 'Atlanta-Sandy Springs-Roswell, GA',\n",
       "  'education_weight': 9.678659035159445,\n",
       "  'population': 1223},\n",
       " {'metropolitan': 'Atlantic City-Hammonton, NJ',\n",
       "  'education_weight': 8.75609756097561,\n",
       "  'population': 41},\n",
       " {'metropolitan': 'Auburn-Opelika, AL',\n",
       "  'education_weight': 10.045112781954888,\n",
       "  'population': 133},\n",
       " {'metropolitan': 'Augusta-Richmond County, GA-SC',\n",
       "  'education_weight': 9.24031007751938,\n",
       "  'population': 129},\n",
       " {'metropolitan': 'Austin-Round Rock, TX',\n",
       "  'education_weight': 9.67076167076167,\n",
       "  'population': 407},\n",
       " {'metropolitan': 'Bakersfield, CA',\n",
       "  'education_weight': 9.069767441860465,\n",
       "  'population': 172},\n",
       " {'metropolitan': 'Baltimore-Columbia-Towson, MD',\n",
       "  'education_weight': 9.683720930232559,\n",
       "  'population': 645},\n",
       " {'metropolitan': 'Bangor, ME',\n",
       "  'education_weight': 9.876288659793815,\n",
       "  'population': 97},\n",
       " {'metropolitan': 'Barnstable, MA',\n",
       "  'education_weight': 9.741935483870968,\n",
       "  'population': 62},\n",
       " {'metropolitan': 'Baton Rouge, LA',\n",
       "  'education_weight': 9.083116883116883,\n",
       "  'population': 385},\n",
       " {'metropolitan': 'Battle Creek, MI',\n",
       "  'education_weight': 9.180555555555555,\n",
       "  'population': 72},\n",
       " {'metropolitan': 'Beaumont-Port Arthur, TX',\n",
       "  'education_weight': 9.0,\n",
       "  'population': 89},\n",
       " {'metropolitan': 'Bend-Redmond, OR',\n",
       "  'education_weight': 9.915966386554622,\n",
       "  'population': 119},\n",
       " {'metropolitan': 'Billings, MT',\n",
       "  'education_weight': 9.72822299651568,\n",
       "  'population': 287},\n",
       " {'metropolitan': 'Binghamton, NY',\n",
       "  'education_weight': 9.251968503937007,\n",
       "  'population': 127},\n",
       " {'metropolitan': 'Birmingham-Hoover, AL',\n",
       "  'education_weight': 9.117117117117116,\n",
       "  'population': 444},\n",
       " {'metropolitan': 'Blacksburg—Christiansburg-Radford, VA',\n",
       "  'education_weight': 10.037037037037036,\n",
       "  'population': 27},\n",
       " {'metropolitan': 'Bloomington, IL',\n",
       "  'education_weight': 10.522727272727273,\n",
       "  'population': 44},\n",
       " {'metropolitan': 'Bloomington, IN',\n",
       "  'education_weight': 9.68421052631579,\n",
       "  'population': 38},\n",
       " {'metropolitan': 'Boise City, ID',\n",
       "  'education_weight': 9.275808936825886,\n",
       "  'population': 649},\n",
       " {'metropolitan': 'Boston-Cambridge-Newton, MA-NH',\n",
       "  'education_weight': 10.16778149386845,\n",
       "  'population': 1794},\n",
       " {'metropolitan': 'Boulder, CO',\n",
       "  'education_weight': 9.829545454545455,\n",
       "  'population': 88},\n",
       " {'metropolitan': 'Bowling Green, KY',\n",
       "  'education_weight': 8.86111111111111,\n",
       "  'population': 72},\n",
       " {'metropolitan': 'Bridgeport-Stamford-Norwalk, CT',\n",
       "  'education_weight': 9.664233576642335,\n",
       "  'population': 274},\n",
       " {'metropolitan': 'Brownsville-Harlingen, TX',\n",
       "  'education_weight': 8.153846153846153,\n",
       "  'population': 78},\n",
       " {'metropolitan': 'Buffalo-Cheektowaga-Niagara Falls, NY',\n",
       "  'education_weight': 9.628,\n",
       "  'population': 250},\n",
       " {'metropolitan': 'Burlington, NC',\n",
       "  'education_weight': 7.939024390243903,\n",
       "  'population': 82},\n",
       " {'metropolitan': 'Burlington-South Burlington, VT',\n",
       "  'education_weight': 10.251046025104603,\n",
       "  'population': 478},\n",
       " {'metropolitan': 'California-Lexington Park, MD',\n",
       "  'education_weight': 8.840909090909092,\n",
       "  'population': 44},\n",
       " {'metropolitan': 'Canton-Massillon, OH',\n",
       "  'education_weight': 9.605633802816902,\n",
       "  'population': 71},\n",
       " {'metropolitan': 'Cape Coral-Fort Myers, FL',\n",
       "  'education_weight': 9.824561403508772,\n",
       "  'population': 114},\n",
       " {'metropolitan': 'Carbondale-Marion, IL',\n",
       "  'education_weight': 8.475,\n",
       "  'population': 40},\n",
       " {'metropolitan': 'Cedar Rapids, IA',\n",
       "  'education_weight': 9.378787878787879,\n",
       "  'population': 66},\n",
       " {'metropolitan': 'Chambersburg-Waynesboro, PA',\n",
       "  'education_weight': 8.423728813559322,\n",
       "  'population': 59},\n",
       " {'metropolitan': 'Champaign-Urbana, IL',\n",
       "  'education_weight': 9.90625,\n",
       "  'population': 64},\n",
       " {'metropolitan': 'Charleston, WV',\n",
       "  'education_weight': 9.285714285714286,\n",
       "  'population': 210},\n",
       " {'metropolitan': 'Charleston-North Charleston, SC',\n",
       "  'education_weight': 9.794871794871796,\n",
       "  'population': 234},\n",
       " {'metropolitan': 'Charlotte-Concord-Gastonia, NC-SC',\n",
       "  'education_weight': 9.469565217391304,\n",
       "  'population': 575},\n",
       " {'metropolitan': 'Charlottesville, VA',\n",
       "  'education_weight': 8.753846153846155,\n",
       "  'population': 65},\n",
       " {'metropolitan': 'Chattanooga, TN-GA',\n",
       "  'education_weight': 9.182741116751268,\n",
       "  'population': 197},\n",
       " {'metropolitan': 'Chicago-Naperville-Elgin, IL-IN-WI',\n",
       "  'education_weight': 9.656751652502361,\n",
       "  'population': 2118},\n",
       " {'metropolitan': 'Chico, CA', 'education_weight': 10.25, 'population': 52},\n",
       " {'metropolitan': 'Cincinnati, OH-KY-IN',\n",
       "  'education_weight': 9.425764192139738,\n",
       "  'population': 458},\n",
       " {'metropolitan': 'Clarksville, TN-KY',\n",
       "  'education_weight': 8.6,\n",
       "  'population': 100},\n",
       " {'metropolitan': 'Cleveland, TN',\n",
       "  'education_weight': 8.961538461538462,\n",
       "  'population': 78},\n",
       " {'metropolitan': 'Cleveland-Elyria, OH',\n",
       "  'education_weight': 9.308924485125859,\n",
       "  'population': 437},\n",
       " {'metropolitan': 'Coeur d’Alene, ID',\n",
       "  'education_weight': 9.386666666666667,\n",
       "  'population': 150},\n",
       " {'metropolitan': 'College Station-Bryan, TX',\n",
       "  'education_weight': 9.941176470588236,\n",
       "  'population': 51},\n",
       " {'metropolitan': 'Colorado Springs, CO',\n",
       "  'education_weight': 9.766917293233083,\n",
       "  'population': 133},\n",
       " {'metropolitan': 'Columbia, SC',\n",
       "  'education_weight': 9.501818181818182,\n",
       "  'population': 275},\n",
       " {'metropolitan': 'Columbus, GA-AL',\n",
       "  'education_weight': 8.887096774193548,\n",
       "  'population': 62},\n",
       " {'metropolitan': 'Columbus, OH',\n",
       "  'education_weight': 9.638349514563107,\n",
       "  'population': 412},\n",
       " {'metropolitan': 'Corpus Christi, TX',\n",
       "  'education_weight': 8.056338028169014,\n",
       "  'population': 71},\n",
       " {'metropolitan': 'Dallas-Fort Worth-Arlington, TX',\n",
       "  'education_weight': 9.445265278710544,\n",
       "  'population': 1489},\n",
       " {'metropolitan': 'Daphne-Fairhope-Foley, AL',\n",
       "  'education_weight': 9.540740740740741,\n",
       "  'population': 135},\n",
       " {'metropolitan': 'Davenport-Moline-Rock Island, IA-IL',\n",
       "  'education_weight': 9.183333333333334,\n",
       "  'population': 120},\n",
       " {'metropolitan': 'Dayton, OH',\n",
       "  'education_weight': 9.440993788819876,\n",
       "  'population': 161},\n",
       " {'metropolitan': 'Deltona-Daytona Beach-Ormond Beach, FL',\n",
       "  'education_weight': 9.096774193548388,\n",
       "  'population': 155},\n",
       " {'metropolitan': 'Denver-Aurora-Lakewood, CO',\n",
       "  'education_weight': 9.886255924170616,\n",
       "  'population': 633},\n",
       " {'metropolitan': 'Des Moines-West Des Moines, IA',\n",
       "  'education_weight': 9.96788990825688,\n",
       "  'population': 218},\n",
       " {'metropolitan': 'Detroit-Warren-Dearborn, MI',\n",
       "  'education_weight': 9.669678714859439,\n",
       "  'population': 996},\n",
       " {'metropolitan': 'Dover, DE',\n",
       "  'education_weight': 9.180995475113122,\n",
       "  'population': 221},\n",
       " {'metropolitan': 'Durham-Chapel Hill, NC',\n",
       "  'education_weight': 10.721311475409836,\n",
       "  'population': 122},\n",
       " {'metropolitan': 'East Stroudsburg, PA',\n",
       "  'education_weight': 7.72972972972973,\n",
       "  'population': 37},\n",
       " {'metropolitan': 'El Paso, TX',\n",
       "  'education_weight': 8.604938271604938,\n",
       "  'population': 162},\n",
       " {'metropolitan': 'Elkhart-Goshen, IN',\n",
       "  'education_weight': 8.985915492957746,\n",
       "  'population': 71},\n",
       " {'metropolitan': 'Erie, PA',\n",
       "  'education_weight': 9.246753246753247,\n",
       "  'population': 77},\n",
       " {'metropolitan': 'Eugene, OR',\n",
       "  'education_weight': 9.817391304347826,\n",
       "  'population': 115},\n",
       " {'metropolitan': 'Evansville, IN-KY',\n",
       "  'education_weight': 8.71111111111111,\n",
       "  'population': 45},\n",
       " {'metropolitan': 'Fargo, ND-MN',\n",
       "  'education_weight': 9.646341463414634,\n",
       "  'population': 328},\n",
       " {'metropolitan': 'Farmington, NM',\n",
       "  'education_weight': 8.666666666666666,\n",
       "  'population': 84},\n",
       " {'metropolitan': 'Fayetteville, NC',\n",
       "  'education_weight': 9.16,\n",
       "  'population': 75},\n",
       " {'metropolitan': 'Fayetteville-Springdale-Rogers, AR-MO',\n",
       "  'education_weight': 9.621451104100947,\n",
       "  'population': 317},\n",
       " {'metropolitan': 'Flint, MI',\n",
       "  'education_weight': 9.067307692307692,\n",
       "  'population': 104},\n",
       " {'metropolitan': 'Florence, SC',\n",
       "  'education_weight': 8.448979591836734,\n",
       "  'population': 49},\n",
       " {'metropolitan': 'Florence-Muscle Shoals, AL',\n",
       "  'education_weight': 8.71264367816092,\n",
       "  'population': 87},\n",
       " {'metropolitan': 'Fort Collins, CO',\n",
       "  'education_weight': 10.204819277108435,\n",
       "  'population': 83},\n",
       " {'metropolitan': 'Fort Smith, AR-OK',\n",
       "  'education_weight': 8.518248175182482,\n",
       "  'population': 137},\n",
       " {'metropolitan': 'Fort Wayne, IN',\n",
       "  'education_weight': 8.440944881889763,\n",
       "  'population': 127},\n",
       " {'metropolitan': 'Fresno, CA',\n",
       "  'education_weight': 7.920634920634921,\n",
       "  'population': 252},\n",
       " {'metropolitan': 'Gainesville, FL',\n",
       "  'education_weight': 9.892307692307693,\n",
       "  'population': 65},\n",
       " {'metropolitan': 'Gainesville, GA',\n",
       "  'education_weight': 8.195652173913043,\n",
       "  'population': 46},\n",
       " {'metropolitan': 'Glen Falls, NY',\n",
       "  'education_weight': 9.18867924528302,\n",
       "  'population': 53},\n",
       " {'metropolitan': 'Goldsboro, NC',\n",
       "  'education_weight': 8.649122807017545,\n",
       "  'population': 57},\n",
       " {'metropolitan': 'Grand Rapids-Wyoming, MI',\n",
       "  'education_weight': 9.603864734299517,\n",
       "  'population': 207},\n",
       " {'metropolitan': 'Greeley, CO',\n",
       "  'education_weight': 8.63768115942029,\n",
       "  'population': 69},\n",
       " {'metropolitan': 'Green Bay, WI',\n",
       "  'education_weight': 8.63768115942029,\n",
       "  'population': 69},\n",
       " {'metropolitan': 'Greensboro-High Point, NC',\n",
       "  'education_weight': 8.647058823529411,\n",
       "  'population': 170},\n",
       " {'metropolitan': 'Greenville, NC',\n",
       "  'education_weight': 9.470588235294118,\n",
       "  'population': 51},\n",
       " {'metropolitan': 'Greenville-Anderson-Mauldin, SC',\n",
       "  'education_weight': 8.869426751592357,\n",
       "  'population': 314},\n",
       " {'metropolitan': 'Hagerstown-Martinsburg, MD-WV',\n",
       "  'education_weight': 8.840490797546012,\n",
       "  'population': 163},\n",
       " {'metropolitan': 'Hanford-Corcoran, CA',\n",
       "  'education_weight': 8.873563218390805,\n",
       "  'population': 87},\n",
       " {'metropolitan': 'Harrisburg-Carlisle, PA',\n",
       "  'education_weight': 9.857142857142858,\n",
       "  'population': 147},\n",
       " {'metropolitan': 'Hartford-West Hartford-East Hartford, CT',\n",
       "  'education_weight': 9.862359550561798,\n",
       "  'population': 356},\n",
       " {'metropolitan': 'Hickory-Morganton-Lenoir, NC',\n",
       "  'education_weight': 8.9,\n",
       "  'population': 80},\n",
       " {'metropolitan': 'Hilton Head Island-Bluffton-Beaufort, SC',\n",
       "  'education_weight': 9.608108108108109,\n",
       "  'population': 74},\n",
       " {'metropolitan': 'Houston-Baytown-Sugar Land, TX',\n",
       "  'education_weight': 8.986627043090639,\n",
       "  'population': 1346},\n",
       " {'metropolitan': 'Huntington-Ashland, WV-KY-OH',\n",
       "  'education_weight': 9.181102362204724,\n",
       "  'population': 254},\n",
       " {'metropolitan': 'Huntsville, AL',\n",
       "  'education_weight': 9.792079207920793,\n",
       "  'population': 202},\n",
       " {'metropolitan': 'Idaho Falls, ID',\n",
       "  'education_weight': 9.040983606557377,\n",
       "  'population': 122},\n",
       " {'metropolitan': 'Indianapolis, IN',\n",
       "  'education_weight': 9.560706401766005,\n",
       "  'population': 453},\n",
       " {'metropolitan': 'Iowa City, IA',\n",
       "  'education_weight': 10.731707317073171,\n",
       "  'population': 82},\n",
       " {'metropolitan': 'Jackson, MI',\n",
       "  'education_weight': 8.946428571428571,\n",
       "  'population': 56},\n",
       " {'metropolitan': 'Jackson, MS',\n",
       "  'education_weight': 8.979591836734693,\n",
       "  'population': 343},\n",
       " {'metropolitan': 'Jacksonville, FL',\n",
       "  'education_weight': 9.88150289017341,\n",
       "  'population': 346},\n",
       " {'metropolitan': 'Jacksonville, NC',\n",
       "  'education_weight': 9.459016393442623,\n",
       "  'population': 61},\n",
       " {'metropolitan': 'Janesville-Beloit, WI',\n",
       "  'education_weight': 8.867924528301886,\n",
       "  'population': 53},\n",
       " {'metropolitan': 'Johnson City, TN',\n",
       "  'education_weight': 8.468354430379748,\n",
       "  'population': 79},\n",
       " {'metropolitan': 'Johnstown, PA',\n",
       "  'education_weight': 8.930232558139535,\n",
       "  'population': 43},\n",
       " {'metropolitan': 'Kahului-Wailuku-Lahaina, HI',\n",
       "  'education_weight': 9.5177304964539,\n",
       "  'population': 141},\n",
       " {'metropolitan': 'Kalamazoo-Portage, MI',\n",
       "  'education_weight': 8.820512820512821,\n",
       "  'population': 78},\n",
       " {'metropolitan': 'Kansas City, MO-KS',\n",
       "  'education_weight': 9.960468521229869,\n",
       "  'population': 683},\n",
       " {'metropolitan': 'Kennewick-Richland, WA',\n",
       "  'education_weight': 9.544554455445544,\n",
       "  'population': 101},\n",
       " {'metropolitan': 'Killeen-Temple-Fort Hood, TX',\n",
       "  'education_weight': 9.805970149253731,\n",
       "  'population': 67},\n",
       " {'metropolitan': 'Kingsport-Bristol, TN-VA',\n",
       "  'education_weight': 9.115789473684211,\n",
       "  'population': 95},\n",
       " {'metropolitan': 'Knoxville, TN',\n",
       "  'education_weight': 9.4009009009009,\n",
       "  'population': 222},\n",
       " {'metropolitan': 'Lafayette, LA',\n",
       "  'education_weight': 8.629166666666666,\n",
       "  'population': 240},\n",
       " {'metropolitan': 'Lafayette-West Lafayette, IN',\n",
       "  'education_weight': 9.865384615384615,\n",
       "  'population': 52},\n",
       " {'metropolitan': 'Lake Charles, LA',\n",
       "  'education_weight': 9.180327868852459,\n",
       "  'population': 122},\n",
       " {'metropolitan': 'Lakeland-Winter Haven, FL',\n",
       "  'education_weight': 8.9,\n",
       "  'population': 190},\n",
       " {'metropolitan': 'Lancaster, PA',\n",
       "  'education_weight': 9.303571428571429,\n",
       "  'population': 112},\n",
       " {'metropolitan': 'Lansing-East Lansing, MI',\n",
       "  'education_weight': 9.10576923076923,\n",
       "  'population': 104},\n",
       " {'metropolitan': 'Laredo, TX',\n",
       "  'education_weight': 7.383561643835616,\n",
       "  'population': 73},\n",
       " {'metropolitan': 'Las Cruces, NM',\n",
       "  'education_weight': 8.902702702702703,\n",
       "  'population': 185},\n",
       " {'metropolitan': 'Las Vegas-Paradise, NV',\n",
       "  'education_weight': 9.047071129707113,\n",
       "  'population': 956},\n",
       " {'metropolitan': 'Lewiston-Auburn, ME',\n",
       "  'education_weight': 8.813953488372093,\n",
       "  'population': 86},\n",
       " {'metropolitan': 'Lexington-Fayette, KY',\n",
       "  'education_weight': 9.320754716981131,\n",
       "  'population': 159},\n",
       " {'metropolitan': 'Little Rock-North Little Rock, AR',\n",
       "  'education_weight': 9.41703056768559,\n",
       "  'population': 458},\n",
       " {'metropolitan': 'Longview, TX', 'education_weight': 8.5, 'population': 74},\n",
       " {'metropolitan': 'Los Angeles-Long Beach-Anaheim, CA',\n",
       "  'education_weight': 8.83879338306844,\n",
       "  'population': 3083},\n",
       " {'metropolitan': 'Louisville, KY-IN',\n",
       "  'education_weight': 8.975903614457831,\n",
       "  'population': 332},\n",
       " {'metropolitan': 'Lubbock, TX',\n",
       "  'education_weight': 9.894736842105264,\n",
       "  'population': 38},\n",
       " {'metropolitan': 'Macon, GA',\n",
       "  'education_weight': 10.446808510638299,\n",
       "  'population': 47},\n",
       " {'metropolitan': 'Madison, WI',\n",
       "  'education_weight': 10.532051282051283,\n",
       "  'population': 156},\n",
       " {'metropolitan': 'Manchester-Nashua, NH',\n",
       "  'education_weight': 9.643805309734514,\n",
       "  'population': 452},\n",
       " {'metropolitan': 'McAllen-Edinburg-Mission, TX',\n",
       "  'education_weight': 7.056737588652482,\n",
       "  'population': 141},\n",
       " {'metropolitan': 'Medford, OR',\n",
       "  'education_weight': 8.278846153846153,\n",
       "  'population': 104},\n",
       " {'metropolitan': 'Memphis, TN-MS-AR',\n",
       "  'education_weight': 9.252380952380953,\n",
       "  'population': 420},\n",
       " {'metropolitan': 'Miami-Fort Lauderdale-West Palm Beach, FL',\n",
       "  'education_weight': 9.53763440860215,\n",
       "  'population': 1302},\n",
       " {'metropolitan': 'Milwaukee-Waukesha-West Allis, WI',\n",
       "  'education_weight': 9.695054945054945,\n",
       "  'population': 364},\n",
       " {'metropolitan': 'Minneapolis-St Paul-Bloomington, MN-WI',\n",
       "  'education_weight': 10.065613608748482,\n",
       "  'population': 823},\n",
       " {'metropolitan': 'Mobile, AL',\n",
       "  'education_weight': 9.057692307692308,\n",
       "  'population': 156},\n",
       " {'metropolitan': 'Modesto, CA', 'education_weight': 8.048, 'population': 125},\n",
       " {'metropolitan': 'Monroe, LA',\n",
       "  'education_weight': 8.882352941176471,\n",
       "  'population': 102},\n",
       " {'metropolitan': 'Monroe, MI',\n",
       "  'education_weight': 9.453333333333333,\n",
       "  'population': 75},\n",
       " {'metropolitan': 'Montgomery, AL',\n",
       "  'education_weight': 8.967532467532468,\n",
       "  'population': 154},\n",
       " {'metropolitan': 'Morgantown, WV',\n",
       "  'education_weight': 9.396103896103897,\n",
       "  'population': 154},\n",
       " {'metropolitan': 'Mount Vernon-Anacortes, WA',\n",
       "  'education_weight': 8.25609756097561,\n",
       "  'population': 82},\n",
       " {'metropolitan': 'Muskegon-Norton Shores, MI',\n",
       "  'education_weight': 7.862068965517241,\n",
       "  'population': 58},\n",
       " {'metropolitan': 'Myrtle Beach-Conway-North Myrtle Beach, SC-NC',\n",
       "  'education_weight': 9.094827586206897,\n",
       "  'population': 116},\n",
       " {'metropolitan': 'NOT IDENTIFIED OR NONMETROPOLITAN',\n",
       "  'education_weight': 8.968954061175392,\n",
       "  'population': 26187},\n",
       " {'metropolitan': 'Naples-Immokalee-Marco Island, FL',\n",
       "  'education_weight': 9.909090909090908,\n",
       "  'population': 88},\n",
       " {'metropolitan': 'Nashville-Davidson-Murfreesboro, TN',\n",
       "  'education_weight': 9.662921348314606,\n",
       "  'population': 534},\n",
       " {'metropolitan': 'New Haven-Milford, CT',\n",
       "  'education_weight': 9.82730923694779,\n",
       "  'population': 249},\n",
       " {'metropolitan': 'New Orleans-Metairie, LA',\n",
       "  'education_weight': 9.199346405228757,\n",
       "  'population': 612},\n",
       " {'metropolitan': 'New York-Newark- Jersey City, NY-NJ-PA (White Plains central city recoded to balance of metropolitan)',\n",
       "  'education_weight': 9.642162674887361,\n",
       "  'population': 4217},\n",
       " {'metropolitan': 'Niles-Benton Harbor, MI',\n",
       "  'education_weight': 8.409090909090908,\n",
       "  'population': 44},\n",
       " {'metropolitan': 'North Port-Sarasota-Bradenton, FL',\n",
       "  'education_weight': 9.545454545454545,\n",
       "  'population': 165},\n",
       " {'metropolitan': 'Norwich-New London, CT',\n",
       "  'education_weight': 9.597560975609756,\n",
       "  'population': 82},\n",
       " {'metropolitan': 'Ocala, FL',\n",
       "  'education_weight': 9.677777777777777,\n",
       "  'population': 90},\n",
       " {'metropolitan': 'Odessa, TX',\n",
       "  'education_weight': 8.245283018867925,\n",
       "  'population': 53},\n",
       " {'metropolitan': 'Ogden-Clearfield, UT',\n",
       "  'education_weight': 9.30835734870317,\n",
       "  'population': 347},\n",
       " {'metropolitan': 'Oklahoma City, OK',\n",
       "  'education_weight': 9.411530815109344,\n",
       "  'population': 503},\n",
       " {'metropolitan': 'Omaha-Council Bluffs, NE-IA',\n",
       "  'education_weight': 9.49090909090909,\n",
       "  'population': 550},\n",
       " {'metropolitan': 'Orlando, FL',\n",
       "  'education_weight': 9.691848906560637,\n",
       "  'population': 503},\n",
       " {'metropolitan': 'Oshkosh-Neenah, WI',\n",
       "  'education_weight': 9.306122448979592,\n",
       "  'population': 49},\n",
       " {'metropolitan': 'Oxnard-Thousand Oaks-Ventura, CA',\n",
       "  'education_weight': 9.627218934911243,\n",
       "  'population': 169},\n",
       " {'metropolitan': 'Palm Bay-Melbourne-Titusville, FL',\n",
       "  'education_weight': 9.951612903225806,\n",
       "  'population': 124},\n",
       " {'metropolitan': 'Panama City, FL',\n",
       "  'education_weight': 9.472222222222221,\n",
       "  'population': 36},\n",
       " {'metropolitan': 'Pensacola-Ferry Pass-Brent, FL',\n",
       "  'education_weight': 9.25233644859813,\n",
       "  'population': 107},\n",
       " {'metropolitan': 'Peoria, IL', 'education_weight': 9.5625, 'population': 112},\n",
       " {'metropolitan': 'Philadelphia-Camden-Wilmington, PA-NJ-DE',\n",
       "  'education_weight': 9.734310850439883,\n",
       "  'population': 1705},\n",
       " {'metropolitan': 'Phoenix-Mesa-Scottsdale, AZ',\n",
       "  'education_weight': 9.193014705882353,\n",
       "  'population': 1088},\n",
       " {'metropolitan': 'Pine Bluff, AR',\n",
       "  'education_weight': 8.68125,\n",
       "  'population': 160},\n",
       " {'metropolitan': 'Pittsburgh, PA',\n",
       "  'education_weight': 9.803448275862069,\n",
       "  'population': 580},\n",
       " {'metropolitan': 'Port St. Lucie-Fort Pierce, FL',\n",
       "  'education_weight': 9.764150943396226,\n",
       "  'population': 106},\n",
       " {'metropolitan': 'Portland-South Portland, ME',\n",
       "  'education_weight': 10.024390243902438,\n",
       "  'population': 328},\n",
       " {'metropolitan': 'Portland-Vancouver-Hillsboro, OR-WA',\n",
       "  'education_weight': 9.891414141414142,\n",
       "  'population': 792},\n",
       " {'metropolitan': 'Prescott, AZ',\n",
       "  'education_weight': 10.058823529411764,\n",
       "  'population': 85},\n",
       " {'metropolitan': 'Providence-Warwick, RI-MA',\n",
       "  'education_weight': 9.572278911564625,\n",
       "  'population': 1176},\n",
       " {'metropolitan': 'Provo-Orem, UT',\n",
       "  'education_weight': 9.615079365079366,\n",
       "  'population': 252},\n",
       " {'metropolitan': 'Racine, WI',\n",
       "  'education_weight': 8.64516129032258,\n",
       "  'population': 62},\n",
       " {'metropolitan': 'Raleigh, NC',\n",
       "  'education_weight': 10.11878453038674,\n",
       "  'population': 362},\n",
       " {'metropolitan': 'Reading, PA',\n",
       "  'education_weight': 8.946236559139784,\n",
       "  'population': 93},\n",
       " {'metropolitan': 'Redding, CA',\n",
       "  'education_weight': 9.726027397260275,\n",
       "  'population': 73},\n",
       " {'metropolitan': 'Richmond, VA',\n",
       "  'education_weight': 9.02089552238806,\n",
       "  'population': 335},\n",
       " {'metropolitan': 'Riverside-San Bernardino-Ontario, CA',\n",
       "  'education_weight': 8.93305439330544,\n",
       "  'population': 956},\n",
       " {'metropolitan': 'Roanoke, VA',\n",
       "  'education_weight': 9.170731707317072,\n",
       "  'population': 41},\n",
       " {'metropolitan': 'Rochester, NY',\n",
       "  'education_weight': 9.55511811023622,\n",
       "  'population': 254},\n",
       " {'metropolitan': 'Rockford, IL',\n",
       "  'education_weight': 9.621212121212121,\n",
       "  'population': 66},\n",
       " {'metropolitan': 'Sacramento--Arden-Arcade–Roseville, CA',\n",
       "  'education_weight': 9.424603174603174,\n",
       "  'population': 504},\n",
       " {'metropolitan': 'Saginaw, MI',\n",
       "  'education_weight': 8.454545454545455,\n",
       "  'population': 33},\n",
       " {'metropolitan': 'Salem, OR',\n",
       "  'education_weight': 8.700729927007298,\n",
       "  'population': 137},\n",
       " {'metropolitan': 'Salinas, CA',\n",
       "  'education_weight': 8.208333333333334,\n",
       "  'population': 96},\n",
       " {'metropolitan': 'Salisbury, MD',\n",
       "  'education_weight': 9.251295336787564,\n",
       "  'population': 386},\n",
       " {'metropolitan': 'Salt Lake City, UT',\n",
       "  'education_weight': 9.40567612687813,\n",
       "  'population': 599},\n",
       " {'metropolitan': 'San Antonio, TX',\n",
       "  'education_weight': 9.009633911368015,\n",
       "  'population': 519},\n",
       " {'metropolitan': 'San Diego-Carlsbad-San Marcos, CA',\n",
       "  'education_weight': 9.936758893280633,\n",
       "  'population': 759},\n",
       " {'metropolitan': 'San Francisco-Oakland-Fremont, CA',\n",
       "  'education_weight': 10.236742424242424,\n",
       "  'population': 1056},\n",
       " {'metropolitan': 'San Jose-Sunnyvale-Santa Clara, CA',\n",
       "  'education_weight': 10.241626794258373,\n",
       "  'population': 418},\n",
       " {'metropolitan': 'San Luis Obispo-Paso Robles, CA',\n",
       "  'education_weight': 9.544117647058824,\n",
       "  'population': 68},\n",
       " {'metropolitan': 'Santa Cruz-Watsonville, CA',\n",
       "  'education_weight': 9.60344827586207,\n",
       "  'population': 58},\n",
       " {'metropolitan': 'Santa Fe, NM',\n",
       "  'education_weight': 9.057851239669422,\n",
       "  'population': 121},\n",
       " {'metropolitan': 'Santa Maria-Santa Barbara, CA',\n",
       "  'education_weight': 7.913043478260869,\n",
       "  'population': 115},\n",
       " {'metropolitan': 'Santa Rosa-Petaluma, CA',\n",
       "  'education_weight': 10.233009708737864,\n",
       "  'population': 103},\n",
       " {'metropolitan': 'Savannah, GA',\n",
       "  'education_weight': 9.54054054054054,\n",
       "  'population': 111},\n",
       " {'metropolitan': 'Scranton--Wilkes-Barre, PA',\n",
       "  'education_weight': 9.473214285714286,\n",
       "  'population': 112},\n",
       " {'metropolitan': 'Seattle-Tacoma-Bellevue, WA',\n",
       "  'education_weight': 9.792682926829269,\n",
       "  'population': 984},\n",
       " {'metropolitan': 'Sherman-Dennison, TX',\n",
       "  'education_weight': 8.786666666666667,\n",
       "  'population': 75},\n",
       " {'metropolitan': 'Shreveport-Bossier City, LA',\n",
       "  'education_weight': 9.2125,\n",
       "  'population': 240},\n",
       " {'metropolitan': 'Sioux Falls, SD',\n",
       "  'education_weight': 9.815,\n",
       "  'population': 400},\n",
       " {'metropolitan': 'South Bend-Mishawaka, IN-MI',\n",
       "  'education_weight': 9.508771929824562,\n",
       "  'population': 57},\n",
       " {'metropolitan': 'Spartanburg, SC',\n",
       "  'education_weight': 9.0,\n",
       "  'population': 105},\n",
       " {'metropolitan': 'Spokane-Spokane Valley, WA',\n",
       "  'education_weight': 9.545454545454545,\n",
       "  'population': 132},\n",
       " {'metropolitan': 'Springfield, IL',\n",
       "  'education_weight': 9.72,\n",
       "  'population': 75},\n",
       " {'metropolitan': 'Springfield, MA',\n",
       "  'education_weight': 9.413793103448276,\n",
       "  'population': 203},\n",
       " {'metropolitan': 'Springfield, MO',\n",
       "  'education_weight': 9.422018348623853,\n",
       "  'population': 109},\n",
       " {'metropolitan': 'St. George, UT',\n",
       "  'education_weight': 9.76923076923077,\n",
       "  'population': 104},\n",
       " {'metropolitan': 'St. Louis, MO-IL',\n",
       "  'education_weight': 9.607988165680473,\n",
       "  'population': 676},\n",
       " {'metropolitan': 'Stockton-Lodi, CA',\n",
       "  'education_weight': 8.59235668789809,\n",
       "  'population': 157},\n",
       " {'metropolitan': 'Syracuse, NY',\n",
       "  'education_weight': 9.93525179856115,\n",
       "  'population': 139},\n",
       " {'metropolitan': 'Tallahassee, FL',\n",
       "  'education_weight': 10.166666666666666,\n",
       "  'population': 84},\n",
       " {'metropolitan': 'Tampa-St. Petersburg-Clearwater, FL',\n",
       "  'education_weight': 9.634285714285713,\n",
       "  'population': 700},\n",
       " {'metropolitan': 'Terre Haute, IN',\n",
       "  'education_weight': 9.015384615384615,\n",
       "  'population': 65},\n",
       " {'metropolitan': 'Toledo, OH',\n",
       "  'education_weight': 9.58095238095238,\n",
       "  'population': 105},\n",
       " {'metropolitan': 'Topeka, KS',\n",
       "  'education_weight': 9.670886075949367,\n",
       "  'population': 79},\n",
       " {'metropolitan': 'Trenton, NJ',\n",
       "  'education_weight': 10.5625,\n",
       "  'population': 48},\n",
       " {'metropolitan': 'Tucson, AZ',\n",
       "  'education_weight': 9.346863468634686,\n",
       "  'population': 271},\n",
       " {'metropolitan': 'Tulsa, OK',\n",
       "  'education_weight': 8.990049751243781,\n",
       "  'population': 402},\n",
       " {'metropolitan': 'Tyler, TX',\n",
       "  'education_weight': 7.914893617021277,\n",
       "  'population': 47},\n",
       " {'metropolitan': 'Urban Honolulu, HI',\n",
       "  'education_weight': 9.732883317261331,\n",
       "  'population': 1037},\n",
       " {'metropolitan': 'Utica-Rome, NY',\n",
       "  'education_weight': 9.433333333333334,\n",
       "  'population': 60},\n",
       " {'metropolitan': 'Vallejo-Fairfield, CA',\n",
       "  'education_weight': 8.619565217391305,\n",
       "  'population': 92},\n",
       " {'metropolitan': 'Vineland-Bridgeton, NJ',\n",
       "  'education_weight': 8.526315789473685,\n",
       "  'population': 19},\n",
       " {'metropolitan': 'Virginia Beach-Norfolk-Newport News, VA-NC',\n",
       "  'education_weight': 9.601123595505618,\n",
       "  'population': 356},\n",
       " {'metropolitan': 'Visalia-Porterville, CA',\n",
       "  'education_weight': 7.05050505050505,\n",
       "  'population': 99},\n",
       " {'metropolitan': 'Waco, TX',\n",
       "  'education_weight': 10.113636363636363,\n",
       "  'population': 44},\n",
       " {'metropolitan': 'Warner Robins, GA',\n",
       "  'education_weight': 9.795918367346939,\n",
       "  'population': 49},\n",
       " {'metropolitan': 'Washington-Arlington-Alexandria, DC-VA-MD-WV',\n",
       "  'education_weight': 10.495514147688061,\n",
       "  'population': 2898},\n",
       " {'metropolitan': 'Waterloo-Cedar Falls, IA',\n",
       "  'education_weight': 9.571428571428571,\n",
       "  'population': 98},\n",
       " {'metropolitan': 'Watertown-Fort Drum, NY',\n",
       "  'education_weight': 8.491803278688524,\n",
       "  'population': 61},\n",
       " {'metropolitan': 'Wausau, WI',\n",
       "  'education_weight': 9.324324324324325,\n",
       "  'population': 37},\n",
       " {'metropolitan': 'Wichita Falls, TX',\n",
       "  'education_weight': 9.127659574468085,\n",
       "  'population': 47},\n",
       " {'metropolitan': 'Wichita, KS',\n",
       "  'education_weight': 9.359154929577464,\n",
       "  'population': 284},\n",
       " {'metropolitan': 'Williamsport, PA',\n",
       "  'education_weight': 9.359375,\n",
       "  'population': 64},\n",
       " {'metropolitan': 'Winchester, VA-WV',\n",
       "  'education_weight': 8.941176470588236,\n",
       "  'population': 68},\n",
       " {'metropolitan': 'Winston-Salem, NC',\n",
       "  'education_weight': 9.684931506849315,\n",
       "  'population': 146},\n",
       " {'metropolitan': 'Worcester, MA-CT',\n",
       "  'education_weight': 9.381270903010034,\n",
       "  'population': 299},\n",
       " {'metropolitan': 'York-Hanover, PA',\n",
       "  'education_weight': 9.160377358490566,\n",
       "  'population': 106},\n",
       " {'metropolitan': 'Youngstown-Warren-Boardman, OH-PA',\n",
       "  'education_weight': 9.204379562043796,\n",
       "  'population': 137},\n",
       " {'metropolitan': 'Yuma, AZ',\n",
       "  'education_weight': 7.284090909090909,\n",
       "  'population': 88}]"
      ]
     },
     "execution_count": 67,
     "metadata": {},
     "output_type": "execute_result"
    }
   ],
   "source": [
    "list_education_weight"
   ]
  },
  {
   "cell_type": "code",
   "execution_count": 68,
   "metadata": {},
   "outputs": [],
   "source": [
    "df_education_weight = pd.DataFrame(list_education_weight)"
   ]
  },
  {
   "cell_type": "code",
   "execution_count": 69,
   "metadata": {},
   "outputs": [
    {
     "data": {
      "text/html": [
       "<div>\n",
       "<style scoped>\n",
       "    .dataframe tbody tr th:only-of-type {\n",
       "        vertical-align: middle;\n",
       "    }\n",
       "\n",
       "    .dataframe tbody tr th {\n",
       "        vertical-align: top;\n",
       "    }\n",
       "\n",
       "    .dataframe thead th {\n",
       "        text-align: right;\n",
       "    }\n",
       "</style>\n",
       "<table border=\"1\" class=\"dataframe\">\n",
       "  <thead>\n",
       "    <tr style=\"text-align: right;\">\n",
       "      <th></th>\n",
       "      <th>metropolitan</th>\n",
       "      <th>education_weight</th>\n",
       "      <th>population</th>\n",
       "    </tr>\n",
       "  </thead>\n",
       "  <tbody>\n",
       "    <tr>\n",
       "      <th>0</th>\n",
       "      <td>Abilene, TX</td>\n",
       "      <td>10.375000</td>\n",
       "      <td>48</td>\n",
       "    </tr>\n",
       "    <tr>\n",
       "      <th>1</th>\n",
       "      <td>Akron, OH</td>\n",
       "      <td>8.880000</td>\n",
       "      <td>175</td>\n",
       "    </tr>\n",
       "    <tr>\n",
       "      <th>2</th>\n",
       "      <td>Albany-Schenectady-Troy, NY</td>\n",
       "      <td>9.994286</td>\n",
       "      <td>175</td>\n",
       "    </tr>\n",
       "    <tr>\n",
       "      <th>3</th>\n",
       "      <td>Albuquerque, NM</td>\n",
       "      <td>9.429268</td>\n",
       "      <td>820</td>\n",
       "    </tr>\n",
       "    <tr>\n",
       "      <th>4</th>\n",
       "      <td>Allentown-Bethlehem-Easton, PA-NJ</td>\n",
       "      <td>9.448485</td>\n",
       "      <td>165</td>\n",
       "    </tr>\n",
       "    <tr>\n",
       "      <th>...</th>\n",
       "      <td>...</td>\n",
       "      <td>...</td>\n",
       "      <td>...</td>\n",
       "    </tr>\n",
       "    <tr>\n",
       "      <th>256</th>\n",
       "      <td>Winston-Salem, NC</td>\n",
       "      <td>9.684932</td>\n",
       "      <td>146</td>\n",
       "    </tr>\n",
       "    <tr>\n",
       "      <th>257</th>\n",
       "      <td>Worcester, MA-CT</td>\n",
       "      <td>9.381271</td>\n",
       "      <td>299</td>\n",
       "    </tr>\n",
       "    <tr>\n",
       "      <th>258</th>\n",
       "      <td>York-Hanover, PA</td>\n",
       "      <td>9.160377</td>\n",
       "      <td>106</td>\n",
       "    </tr>\n",
       "    <tr>\n",
       "      <th>259</th>\n",
       "      <td>Youngstown-Warren-Boardman, OH-PA</td>\n",
       "      <td>9.204380</td>\n",
       "      <td>137</td>\n",
       "    </tr>\n",
       "    <tr>\n",
       "      <th>260</th>\n",
       "      <td>Yuma, AZ</td>\n",
       "      <td>7.284091</td>\n",
       "      <td>88</td>\n",
       "    </tr>\n",
       "  </tbody>\n",
       "</table>\n",
       "<p>261 rows × 3 columns</p>\n",
       "</div>"
      ],
      "text/plain": [
       "                          metropolitan  education_weight  population\n",
       "0                          Abilene, TX         10.375000          48\n",
       "1                            Akron, OH          8.880000         175\n",
       "2          Albany-Schenectady-Troy, NY          9.994286         175\n",
       "3                      Albuquerque, NM          9.429268         820\n",
       "4    Allentown-Bethlehem-Easton, PA-NJ          9.448485         165\n",
       "..                                 ...               ...         ...\n",
       "256                  Winston-Salem, NC          9.684932         146\n",
       "257                   Worcester, MA-CT          9.381271         299\n",
       "258                   York-Hanover, PA          9.160377         106\n",
       "259  Youngstown-Warren-Boardman, OH-PA          9.204380         137\n",
       "260                           Yuma, AZ          7.284091          88\n",
       "\n",
       "[261 rows x 3 columns]"
      ]
     },
     "execution_count": 69,
     "metadata": {},
     "output_type": "execute_result"
    }
   ],
   "source": [
    "df_education_weight"
   ]
  },
  {
   "cell_type": "code",
   "execution_count": 70,
   "metadata": {},
   "outputs": [
    {
     "data": {
      "image/png": "[encoded data removed]",
      "text/plain": [
       "<Figure size 432x288 with 1 Axes>"
      ]
     },
     "metadata": {
      "needs_background": "light"
     },
     "output_type": "display_data"
    }
   ],
   "source": [
    "sns.distplot(df_education_weight.education_weight, bins=12);"
   ]
  },
  {
   "cell_type": "markdown",
   "metadata": {},
   "source": [
    "## Save Aggregated DataFrame"
   ]
  },
  {
   "cell_type": "code",
   "execution_count": 72,
   "metadata": {},
   "outputs": [],
   "source": [
    "df_education_weight.to_csv('../data/Education/data_education_weight.csv')"
   ]
  },
  {
   "cell_type": "code",
   "execution_count": null,
   "metadata": {},
   "outputs": [],
   "source": []
  }
 ],
 "metadata": {
  "kernelspec": {
   "display_name": "Python 3",
   "language": "python",
   "name": "python3"
  },
  "language_info": {
   "codemirror_mode": {
    "name": "ipython",
    "version": 3
   },
   "file_extension": ".py",
   "mimetype": "text/x-python",
   "name": "python",
   "nbconvert_exporter": "python",
   "pygments_lexer": "ipython3",
   "version": "3.6.5"
  }
 },
 "nbformat": 4,
 "nbformat_minor": 2
}
